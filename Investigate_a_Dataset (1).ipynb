{
 "cells": [
  {
   "cell_type": "markdown",
   "metadata": {},
   "source": [
    "# Project: Investigate an healthcare dataset collecting information from 100k medical appointments in Brazil\n",
    "\n",
    "## Table of Contents\n",
    "<ul>\n",
    "<li><a href=\"#intro\">Introduction</a></li>\n",
    "<li><a href=\"#wrangling\">Data Wrangling</a></li>\n",
    "<li><a href=\"#eda\">Exploratory Data Analysis</a></li>\n",
    "<li><a href=\"#conclusions\">Conclusions</a></li>\n",
    "</ul>"
   ]
  },
  {
   "cell_type": "markdown",
   "metadata": {},
   "source": [
    "<a id='intro'></a>\n",
    "## Introduction\n",
    "\n",
    "In this project, I have analysed the No-show dataset, which is available on Kaggle. This dataset contains information related to arround 100,000 patients in Brazil. It includes information about patient: ID, Gender, Age, Neighbourhood where they live, their access to Scholarship, if they have Hipertension, Diabetes, Alcoholism and/or an Handicap. It also contains information about the appointment that was taken: Scheduled Day, Appointment Day, if they received an SMS to remind them and if they show up or not.  \n",
    "\n",
    "This dataset can help to understand various factors like distribution of appointments by age & gender, relation between the age and any health issues mentioned above, or if there is any value to send a SMS to ensure patients don't bail their appointment.\n",
    "\n",
    "Note: For this analysis, inferential statistics or machine learning are not used so findings are tentative.\n",
    "\n",
    "Through Exploratory Data Analysis, we will find hidden patterns which will help us draw conclusions.\n",
    "\n",
    "I am focusing on answering following questions as part of this project:"
   ]
  },
  {
   "cell_type": "code",
   "execution_count": 340,
   "metadata": {},
   "outputs": [],
   "source": [
    "# Packages we will use for this analysis\n",
    "import pandas as pd\n",
    "import numpy as np\n",
    "import matplotlib.pyplot as plt\n",
    "import seaborn as sns\n",
    "%matplotlib inline\n",
    "\n",
    "# Style and size of graph\n",
    "\n",
    "sns.set_style('darkgrid')\n",
    "sns.set(rc={'figure.figsize':(10,8)})"
   ]
  },
  {
   "cell_type": "markdown",
   "metadata": {},
   "source": [
    "<a id='wrangling'></a>\n",
    "## Data Wrangling\n",
    "\n",
    "During this step, we are going to import the csv file and display its main information. We will perform the following steps:\n",
    "\n",
    "Display the info of the dataset and get the idea of the size, number of records and number of columns\n",
    "Familiarize with the dataset and find any unusal values\n",
    "\n",
    "### Data loading"
   ]
  },
  {
   "cell_type": "code",
   "execution_count": 341,
   "metadata": {},
   "outputs": [
    {
     "data": {
      "text/html": [
       "<div>\n",
       "<style scoped>\n",
       "    .dataframe tbody tr th:only-of-type {\n",
       "        vertical-align: middle;\n",
       "    }\n",
       "\n",
       "    .dataframe tbody tr th {\n",
       "        vertical-align: top;\n",
       "    }\n",
       "\n",
       "    .dataframe thead th {\n",
       "        text-align: right;\n",
       "    }\n",
       "</style>\n",
       "<table border=\"1\" class=\"dataframe\">\n",
       "  <thead>\n",
       "    <tr style=\"text-align: right;\">\n",
       "      <th></th>\n",
       "      <th>PatientId</th>\n",
       "      <th>AppointmentID</th>\n",
       "      <th>Gender</th>\n",
       "      <th>ScheduledDay</th>\n",
       "      <th>AppointmentDay</th>\n",
       "      <th>Age</th>\n",
       "      <th>Neighbourhood</th>\n",
       "      <th>Scholarship</th>\n",
       "      <th>Hipertension</th>\n",
       "      <th>Diabetes</th>\n",
       "      <th>Alcoholism</th>\n",
       "      <th>Handcap</th>\n",
       "      <th>SMS_received</th>\n",
       "      <th>No-show</th>\n",
       "    </tr>\n",
       "  </thead>\n",
       "  <tbody>\n",
       "    <tr>\n",
       "      <th>0</th>\n",
       "      <td>2.987250e+13</td>\n",
       "      <td>5642903</td>\n",
       "      <td>F</td>\n",
       "      <td>2016-04-29T18:38:08Z</td>\n",
       "      <td>2016-04-29T00:00:00Z</td>\n",
       "      <td>62</td>\n",
       "      <td>JARDIM DA PENHA</td>\n",
       "      <td>0</td>\n",
       "      <td>1</td>\n",
       "      <td>0</td>\n",
       "      <td>0</td>\n",
       "      <td>0</td>\n",
       "      <td>0</td>\n",
       "      <td>No</td>\n",
       "    </tr>\n",
       "    <tr>\n",
       "      <th>1</th>\n",
       "      <td>5.589978e+14</td>\n",
       "      <td>5642503</td>\n",
       "      <td>M</td>\n",
       "      <td>2016-04-29T16:08:27Z</td>\n",
       "      <td>2016-04-29T00:00:00Z</td>\n",
       "      <td>56</td>\n",
       "      <td>JARDIM DA PENHA</td>\n",
       "      <td>0</td>\n",
       "      <td>0</td>\n",
       "      <td>0</td>\n",
       "      <td>0</td>\n",
       "      <td>0</td>\n",
       "      <td>0</td>\n",
       "      <td>No</td>\n",
       "    </tr>\n",
       "    <tr>\n",
       "      <th>2</th>\n",
       "      <td>4.262962e+12</td>\n",
       "      <td>5642549</td>\n",
       "      <td>F</td>\n",
       "      <td>2016-04-29T16:19:04Z</td>\n",
       "      <td>2016-04-29T00:00:00Z</td>\n",
       "      <td>62</td>\n",
       "      <td>MATA DA PRAIA</td>\n",
       "      <td>0</td>\n",
       "      <td>0</td>\n",
       "      <td>0</td>\n",
       "      <td>0</td>\n",
       "      <td>0</td>\n",
       "      <td>0</td>\n",
       "      <td>No</td>\n",
       "    </tr>\n",
       "    <tr>\n",
       "      <th>3</th>\n",
       "      <td>8.679512e+11</td>\n",
       "      <td>5642828</td>\n",
       "      <td>F</td>\n",
       "      <td>2016-04-29T17:29:31Z</td>\n",
       "      <td>2016-04-29T00:00:00Z</td>\n",
       "      <td>8</td>\n",
       "      <td>PONTAL DE CAMBURI</td>\n",
       "      <td>0</td>\n",
       "      <td>0</td>\n",
       "      <td>0</td>\n",
       "      <td>0</td>\n",
       "      <td>0</td>\n",
       "      <td>0</td>\n",
       "      <td>No</td>\n",
       "    </tr>\n",
       "    <tr>\n",
       "      <th>4</th>\n",
       "      <td>8.841186e+12</td>\n",
       "      <td>5642494</td>\n",
       "      <td>F</td>\n",
       "      <td>2016-04-29T16:07:23Z</td>\n",
       "      <td>2016-04-29T00:00:00Z</td>\n",
       "      <td>56</td>\n",
       "      <td>JARDIM DA PENHA</td>\n",
       "      <td>0</td>\n",
       "      <td>1</td>\n",
       "      <td>1</td>\n",
       "      <td>0</td>\n",
       "      <td>0</td>\n",
       "      <td>0</td>\n",
       "      <td>No</td>\n",
       "    </tr>\n",
       "  </tbody>\n",
       "</table>\n",
       "</div>"
      ],
      "text/plain": [
       "      PatientId  AppointmentID Gender          ScheduledDay  \\\n",
       "0  2.987250e+13        5642903      F  2016-04-29T18:38:08Z   \n",
       "1  5.589978e+14        5642503      M  2016-04-29T16:08:27Z   \n",
       "2  4.262962e+12        5642549      F  2016-04-29T16:19:04Z   \n",
       "3  8.679512e+11        5642828      F  2016-04-29T17:29:31Z   \n",
       "4  8.841186e+12        5642494      F  2016-04-29T16:07:23Z   \n",
       "\n",
       "         AppointmentDay  Age      Neighbourhood  Scholarship  Hipertension  \\\n",
       "0  2016-04-29T00:00:00Z   62    JARDIM DA PENHA            0             1   \n",
       "1  2016-04-29T00:00:00Z   56    JARDIM DA PENHA            0             0   \n",
       "2  2016-04-29T00:00:00Z   62      MATA DA PRAIA            0             0   \n",
       "3  2016-04-29T00:00:00Z    8  PONTAL DE CAMBURI            0             0   \n",
       "4  2016-04-29T00:00:00Z   56    JARDIM DA PENHA            0             1   \n",
       "\n",
       "   Diabetes  Alcoholism  Handcap  SMS_received No-show  \n",
       "0         0           0        0             0      No  \n",
       "1         0           0        0             0      No  \n",
       "2         0           0        0             0      No  \n",
       "3         0           0        0             0      No  \n",
       "4         1           0        0             0      No  "
      ]
     },
     "execution_count": 341,
     "metadata": {},
     "output_type": "execute_result"
    }
   ],
   "source": [
    "# Data loading using pandas\n",
    "df = pd.read_csv('noshowappointments-kagglev2-may-2016.csv')\n",
    "df.head()"
   ]
  },
  {
   "cell_type": "code",
   "execution_count": 342,
   "metadata": {},
   "outputs": [
    {
     "name": "stdout",
     "output_type": "stream",
     "text": [
      "Let's look at the shape:\n",
      "rows= 110527 columns= 14\n"
     ]
    }
   ],
   "source": [
    "print(\"Let's look at the shape:\")\n",
    "print(\"rows=\",df.shape[0],\"columns=\",df.shape[1])"
   ]
  },
  {
   "cell_type": "code",
   "execution_count": 343,
   "metadata": {},
   "outputs": [
    {
     "name": "stdout",
     "output_type": "stream",
     "text": [
      "Quick look at some statistics about our dataset: \n",
      "\n",
      "\n"
     ]
    },
    {
     "data": {
      "text/html": [
       "<div>\n",
       "<style scoped>\n",
       "    .dataframe tbody tr th:only-of-type {\n",
       "        vertical-align: middle;\n",
       "    }\n",
       "\n",
       "    .dataframe tbody tr th {\n",
       "        vertical-align: top;\n",
       "    }\n",
       "\n",
       "    .dataframe thead th {\n",
       "        text-align: right;\n",
       "    }\n",
       "</style>\n",
       "<table border=\"1\" class=\"dataframe\">\n",
       "  <thead>\n",
       "    <tr style=\"text-align: right;\">\n",
       "      <th></th>\n",
       "      <th>PatientId</th>\n",
       "      <th>AppointmentID</th>\n",
       "      <th>Age</th>\n",
       "      <th>Scholarship</th>\n",
       "      <th>Hipertension</th>\n",
       "      <th>Diabetes</th>\n",
       "      <th>Alcoholism</th>\n",
       "      <th>Handcap</th>\n",
       "      <th>SMS_received</th>\n",
       "    </tr>\n",
       "  </thead>\n",
       "  <tbody>\n",
       "    <tr>\n",
       "      <th>count</th>\n",
       "      <td>1.105270e+05</td>\n",
       "      <td>1.105270e+05</td>\n",
       "      <td>110527.000000</td>\n",
       "      <td>110527.000000</td>\n",
       "      <td>110527.000000</td>\n",
       "      <td>110527.000000</td>\n",
       "      <td>110527.000000</td>\n",
       "      <td>110527.000000</td>\n",
       "      <td>110527.000000</td>\n",
       "    </tr>\n",
       "    <tr>\n",
       "      <th>mean</th>\n",
       "      <td>1.474963e+14</td>\n",
       "      <td>5.675305e+06</td>\n",
       "      <td>37.088874</td>\n",
       "      <td>0.098266</td>\n",
       "      <td>0.197246</td>\n",
       "      <td>0.071865</td>\n",
       "      <td>0.030400</td>\n",
       "      <td>0.022248</td>\n",
       "      <td>0.321026</td>\n",
       "    </tr>\n",
       "    <tr>\n",
       "      <th>std</th>\n",
       "      <td>2.560949e+14</td>\n",
       "      <td>7.129575e+04</td>\n",
       "      <td>23.110205</td>\n",
       "      <td>0.297675</td>\n",
       "      <td>0.397921</td>\n",
       "      <td>0.258265</td>\n",
       "      <td>0.171686</td>\n",
       "      <td>0.161543</td>\n",
       "      <td>0.466873</td>\n",
       "    </tr>\n",
       "    <tr>\n",
       "      <th>min</th>\n",
       "      <td>3.921784e+04</td>\n",
       "      <td>5.030230e+06</td>\n",
       "      <td>-1.000000</td>\n",
       "      <td>0.000000</td>\n",
       "      <td>0.000000</td>\n",
       "      <td>0.000000</td>\n",
       "      <td>0.000000</td>\n",
       "      <td>0.000000</td>\n",
       "      <td>0.000000</td>\n",
       "    </tr>\n",
       "    <tr>\n",
       "      <th>25%</th>\n",
       "      <td>4.172614e+12</td>\n",
       "      <td>5.640286e+06</td>\n",
       "      <td>18.000000</td>\n",
       "      <td>0.000000</td>\n",
       "      <td>0.000000</td>\n",
       "      <td>0.000000</td>\n",
       "      <td>0.000000</td>\n",
       "      <td>0.000000</td>\n",
       "      <td>0.000000</td>\n",
       "    </tr>\n",
       "    <tr>\n",
       "      <th>50%</th>\n",
       "      <td>3.173184e+13</td>\n",
       "      <td>5.680573e+06</td>\n",
       "      <td>37.000000</td>\n",
       "      <td>0.000000</td>\n",
       "      <td>0.000000</td>\n",
       "      <td>0.000000</td>\n",
       "      <td>0.000000</td>\n",
       "      <td>0.000000</td>\n",
       "      <td>0.000000</td>\n",
       "    </tr>\n",
       "    <tr>\n",
       "      <th>75%</th>\n",
       "      <td>9.439172e+13</td>\n",
       "      <td>5.725524e+06</td>\n",
       "      <td>55.000000</td>\n",
       "      <td>0.000000</td>\n",
       "      <td>0.000000</td>\n",
       "      <td>0.000000</td>\n",
       "      <td>0.000000</td>\n",
       "      <td>0.000000</td>\n",
       "      <td>1.000000</td>\n",
       "    </tr>\n",
       "    <tr>\n",
       "      <th>max</th>\n",
       "      <td>9.999816e+14</td>\n",
       "      <td>5.790484e+06</td>\n",
       "      <td>115.000000</td>\n",
       "      <td>1.000000</td>\n",
       "      <td>1.000000</td>\n",
       "      <td>1.000000</td>\n",
       "      <td>1.000000</td>\n",
       "      <td>4.000000</td>\n",
       "      <td>1.000000</td>\n",
       "    </tr>\n",
       "  </tbody>\n",
       "</table>\n",
       "</div>"
      ],
      "text/plain": [
       "          PatientId  AppointmentID            Age    Scholarship  \\\n",
       "count  1.105270e+05   1.105270e+05  110527.000000  110527.000000   \n",
       "mean   1.474963e+14   5.675305e+06      37.088874       0.098266   \n",
       "std    2.560949e+14   7.129575e+04      23.110205       0.297675   \n",
       "min    3.921784e+04   5.030230e+06      -1.000000       0.000000   \n",
       "25%    4.172614e+12   5.640286e+06      18.000000       0.000000   \n",
       "50%    3.173184e+13   5.680573e+06      37.000000       0.000000   \n",
       "75%    9.439172e+13   5.725524e+06      55.000000       0.000000   \n",
       "max    9.999816e+14   5.790484e+06     115.000000       1.000000   \n",
       "\n",
       "        Hipertension       Diabetes     Alcoholism        Handcap  \\\n",
       "count  110527.000000  110527.000000  110527.000000  110527.000000   \n",
       "mean        0.197246       0.071865       0.030400       0.022248   \n",
       "std         0.397921       0.258265       0.171686       0.161543   \n",
       "min         0.000000       0.000000       0.000000       0.000000   \n",
       "25%         0.000000       0.000000       0.000000       0.000000   \n",
       "50%         0.000000       0.000000       0.000000       0.000000   \n",
       "75%         0.000000       0.000000       0.000000       0.000000   \n",
       "max         1.000000       1.000000       1.000000       4.000000   \n",
       "\n",
       "        SMS_received  \n",
       "count  110527.000000  \n",
       "mean        0.321026  \n",
       "std         0.466873  \n",
       "min         0.000000  \n",
       "25%         0.000000  \n",
       "50%         0.000000  \n",
       "75%         1.000000  \n",
       "max         1.000000  "
      ]
     },
     "execution_count": 343,
     "metadata": {},
     "output_type": "execute_result"
    }
   ],
   "source": [
    "#check basis information of the dataset\n",
    "print(\"Quick look at some statistics about our dataset: \\n\\n\")\n",
    "df.describe()"
   ]
  },
  {
   "cell_type": "code",
   "execution_count": 344,
   "metadata": {},
   "outputs": [
    {
     "name": "stdout",
     "output_type": "stream",
     "text": [
      "Let's ensure there is no null:\n"
     ]
    },
    {
     "data": {
      "text/plain": [
       "PatientId         0\n",
       "AppointmentID     0\n",
       "Gender            0\n",
       "ScheduledDay      0\n",
       "AppointmentDay    0\n",
       "Age               0\n",
       "Neighbourhood     0\n",
       "Scholarship       0\n",
       "Hipertension      0\n",
       "Diabetes          0\n",
       "Alcoholism        0\n",
       "Handcap           0\n",
       "SMS_received      0\n",
       "No-show           0\n",
       "dtype: int64"
      ]
     },
     "execution_count": 344,
     "metadata": {},
     "output_type": "execute_result"
    }
   ],
   "source": [
    "print(\"Let's ensure there is no null:\")\n",
    "df.isnull().sum()"
   ]
  },
  {
   "cell_type": "code",
   "execution_count": 345,
   "metadata": {},
   "outputs": [
    {
     "name": "stdout",
     "output_type": "stream",
     "text": [
      "Now, let's now ensure there is no duplicate:\n"
     ]
    },
    {
     "data": {
      "text/plain": [
       "0"
      ]
     },
     "execution_count": 345,
     "metadata": {},
     "output_type": "execute_result"
    }
   ],
   "source": [
    "print(\"Now, let's now ensure there is no duplicate:\")\n",
    "sum(df.duplicated())"
   ]
  },
  {
   "cell_type": "code",
   "execution_count": 346,
   "metadata": {},
   "outputs": [
    {
     "name": "stdout",
     "output_type": "stream",
     "text": [
      "The data types of our dataframe is:\n"
     ]
    },
    {
     "data": {
      "text/plain": [
       "PatientId         float64\n",
       "AppointmentID       int64\n",
       "Gender             object\n",
       "ScheduledDay       object\n",
       "AppointmentDay     object\n",
       "Age                 int64\n",
       "Neighbourhood      object\n",
       "Scholarship         int64\n",
       "Hipertension        int64\n",
       "Diabetes            int64\n",
       "Alcoholism          int64\n",
       "Handcap             int64\n",
       "SMS_received        int64\n",
       "No-show            object\n",
       "dtype: object"
      ]
     },
     "execution_count": 346,
     "metadata": {},
     "output_type": "execute_result"
    }
   ],
   "source": [
    "print(\"The data types of our dataframe is:\")\n",
    "df.dtypes"
   ]
  },
  {
   "cell_type": "markdown",
   "metadata": {},
   "source": [
    "### Data Cleaning to prepare our dataset for EDA"
   ]
  },
  {
   "cell_type": "markdown",
   "metadata": {},
   "source": [
    "### Observations and step to clean the data, based on accessing the No-show dataset file\n",
    "\n",
    "- The columns \"PatientId\" is not relevant for this analysis, we drop it.\n",
    "- No-show column is dropped to have Show column created (in replacement of No-Show), and then converted from String to Integer.\n",
    "- No missing value found in any columns\n",
    "- No duplicates found\n",
    "- Nb_health-issues created to sum all the health issues existing in this dataset"
   ]
  },
  {
   "cell_type": "code",
   "execution_count": 347,
   "metadata": {},
   "outputs": [
    {
     "name": "stdout",
     "output_type": "stream",
     "text": [
      "I want to drop 1 column, Patient ID, since I cannot really see the value of having it for the analysis.\n"
     ]
    }
   ],
   "source": [
    "#Dropping columns PatientId\n",
    "print(\"I want to drop 1 column, Patient ID, since I cannot really see the value of having it for the analysis.\")\n",
    "df.drop(['PatientId'], axis=1, inplace=True)"
   ]
  },
  {
   "cell_type": "code",
   "execution_count": 348,
   "metadata": {},
   "outputs": [
    {
     "name": "stdout",
     "output_type": "stream",
     "text": [
      "Creation of the Show column upon No-show data.\n"
     ]
    }
   ],
   "source": [
    "#Creation of the the Column 'Show', which is intended to be an integer of 1 when the patient showed up.\n",
    "df['Show'] = ['1' if x == 'No' else '0' for x in df['No-show']]\n",
    "print(\"Creation of the Show column upon No-show data.\")"
   ]
  },
  {
   "cell_type": "code",
   "execution_count": 349,
   "metadata": {},
   "outputs": [
    {
     "name": "stdout",
     "output_type": "stream",
     "text": [
      "No-show column has been dropped.\n"
     ]
    }
   ],
   "source": [
    "#Dropping the No-show columns, which was a string. The show columns created upon the No-show column will allow us to\n",
    "#look at correlation\n",
    "df.drop(['No-show'], axis=1, inplace=True)\n",
    "print(\"No-show column has been dropped.\")"
   ]
  },
  {
   "cell_type": "code",
   "execution_count": 350,
   "metadata": {},
   "outputs": [
    {
     "name": "stdout",
     "output_type": "stream",
     "text": [
      "Changing the data type of show, from String to Integer.\n"
     ]
    }
   ],
   "source": [
    "#function to convert str to int\n",
    "print('Changing the data type of show, from String to Integer.')\n",
    "def str_to_int(input):\n",
    "    return np.int(float(input))\n",
    "\n",
    "df['Show'] = df['Show'].apply(str_to_int)"
   ]
  },
  {
   "cell_type": "code",
   "execution_count": 351,
   "metadata": {},
   "outputs": [
    {
     "name": "stdout",
     "output_type": "stream",
     "text": [
      "Nb_health_issue column has been created. This will help us to see if there are relationship between this new column and the age or the attendance for example.\n"
     ]
    }
   ],
   "source": [
    "#Creation of a new column, summing all the health issues listed in the dataset\n",
    "df['Nb_health_issues'] = df['Hipertension'] + df['Diabetes'] + df['Alcoholism'] + df['Handcap']\n",
    "print('Nb_health_issue column has been created. This will help us to see if there are relationship between this new column and the age or the attendance for example.')"
   ]
  },
  {
   "cell_type": "code",
   "execution_count": 352,
   "metadata": {},
   "outputs": [
    {
     "name": "stdout",
     "output_type": "stream",
     "text": [
      "Looking at our dataset after the changes being done.\n"
     ]
    },
    {
     "data": {
      "text/html": [
       "<div>\n",
       "<style scoped>\n",
       "    .dataframe tbody tr th:only-of-type {\n",
       "        vertical-align: middle;\n",
       "    }\n",
       "\n",
       "    .dataframe tbody tr th {\n",
       "        vertical-align: top;\n",
       "    }\n",
       "\n",
       "    .dataframe thead th {\n",
       "        text-align: right;\n",
       "    }\n",
       "</style>\n",
       "<table border=\"1\" class=\"dataframe\">\n",
       "  <thead>\n",
       "    <tr style=\"text-align: right;\">\n",
       "      <th></th>\n",
       "      <th>AppointmentID</th>\n",
       "      <th>Gender</th>\n",
       "      <th>ScheduledDay</th>\n",
       "      <th>AppointmentDay</th>\n",
       "      <th>Age</th>\n",
       "      <th>Neighbourhood</th>\n",
       "      <th>Scholarship</th>\n",
       "      <th>Hipertension</th>\n",
       "      <th>Diabetes</th>\n",
       "      <th>Alcoholism</th>\n",
       "      <th>Handcap</th>\n",
       "      <th>SMS_received</th>\n",
       "      <th>Show</th>\n",
       "      <th>Nb_health_issues</th>\n",
       "    </tr>\n",
       "  </thead>\n",
       "  <tbody>\n",
       "    <tr>\n",
       "      <th>0</th>\n",
       "      <td>5642903</td>\n",
       "      <td>F</td>\n",
       "      <td>2016-04-29T18:38:08Z</td>\n",
       "      <td>2016-04-29T00:00:00Z</td>\n",
       "      <td>62</td>\n",
       "      <td>JARDIM DA PENHA</td>\n",
       "      <td>0</td>\n",
       "      <td>1</td>\n",
       "      <td>0</td>\n",
       "      <td>0</td>\n",
       "      <td>0</td>\n",
       "      <td>0</td>\n",
       "      <td>1</td>\n",
       "      <td>1</td>\n",
       "    </tr>\n",
       "    <tr>\n",
       "      <th>1</th>\n",
       "      <td>5642503</td>\n",
       "      <td>M</td>\n",
       "      <td>2016-04-29T16:08:27Z</td>\n",
       "      <td>2016-04-29T00:00:00Z</td>\n",
       "      <td>56</td>\n",
       "      <td>JARDIM DA PENHA</td>\n",
       "      <td>0</td>\n",
       "      <td>0</td>\n",
       "      <td>0</td>\n",
       "      <td>0</td>\n",
       "      <td>0</td>\n",
       "      <td>0</td>\n",
       "      <td>1</td>\n",
       "      <td>0</td>\n",
       "    </tr>\n",
       "    <tr>\n",
       "      <th>2</th>\n",
       "      <td>5642549</td>\n",
       "      <td>F</td>\n",
       "      <td>2016-04-29T16:19:04Z</td>\n",
       "      <td>2016-04-29T00:00:00Z</td>\n",
       "      <td>62</td>\n",
       "      <td>MATA DA PRAIA</td>\n",
       "      <td>0</td>\n",
       "      <td>0</td>\n",
       "      <td>0</td>\n",
       "      <td>0</td>\n",
       "      <td>0</td>\n",
       "      <td>0</td>\n",
       "      <td>1</td>\n",
       "      <td>0</td>\n",
       "    </tr>\n",
       "    <tr>\n",
       "      <th>3</th>\n",
       "      <td>5642828</td>\n",
       "      <td>F</td>\n",
       "      <td>2016-04-29T17:29:31Z</td>\n",
       "      <td>2016-04-29T00:00:00Z</td>\n",
       "      <td>8</td>\n",
       "      <td>PONTAL DE CAMBURI</td>\n",
       "      <td>0</td>\n",
       "      <td>0</td>\n",
       "      <td>0</td>\n",
       "      <td>0</td>\n",
       "      <td>0</td>\n",
       "      <td>0</td>\n",
       "      <td>1</td>\n",
       "      <td>0</td>\n",
       "    </tr>\n",
       "    <tr>\n",
       "      <th>4</th>\n",
       "      <td>5642494</td>\n",
       "      <td>F</td>\n",
       "      <td>2016-04-29T16:07:23Z</td>\n",
       "      <td>2016-04-29T00:00:00Z</td>\n",
       "      <td>56</td>\n",
       "      <td>JARDIM DA PENHA</td>\n",
       "      <td>0</td>\n",
       "      <td>1</td>\n",
       "      <td>1</td>\n",
       "      <td>0</td>\n",
       "      <td>0</td>\n",
       "      <td>0</td>\n",
       "      <td>1</td>\n",
       "      <td>2</td>\n",
       "    </tr>\n",
       "  </tbody>\n",
       "</table>\n",
       "</div>"
      ],
      "text/plain": [
       "   AppointmentID Gender          ScheduledDay        AppointmentDay  Age  \\\n",
       "0        5642903      F  2016-04-29T18:38:08Z  2016-04-29T00:00:00Z   62   \n",
       "1        5642503      M  2016-04-29T16:08:27Z  2016-04-29T00:00:00Z   56   \n",
       "2        5642549      F  2016-04-29T16:19:04Z  2016-04-29T00:00:00Z   62   \n",
       "3        5642828      F  2016-04-29T17:29:31Z  2016-04-29T00:00:00Z    8   \n",
       "4        5642494      F  2016-04-29T16:07:23Z  2016-04-29T00:00:00Z   56   \n",
       "\n",
       "       Neighbourhood  Scholarship  Hipertension  Diabetes  Alcoholism  \\\n",
       "0    JARDIM DA PENHA            0             1         0           0   \n",
       "1    JARDIM DA PENHA            0             0         0           0   \n",
       "2      MATA DA PRAIA            0             0         0           0   \n",
       "3  PONTAL DE CAMBURI            0             0         0           0   \n",
       "4    JARDIM DA PENHA            0             1         1           0   \n",
       "\n",
       "   Handcap  SMS_received  Show  Nb_health_issues  \n",
       "0        0             0     1                 1  \n",
       "1        0             0     1                 0  \n",
       "2        0             0     1                 0  \n",
       "3        0             0     1                 0  \n",
       "4        0             0     1                 2  "
      ]
     },
     "execution_count": 352,
     "metadata": {},
     "output_type": "execute_result"
    }
   ],
   "source": [
    "print('Looking at our dataset after the changes being done.')\n",
    "df.head()"
   ]
  },
  {
   "cell_type": "code",
   "execution_count": 353,
   "metadata": {},
   "outputs": [
    {
     "name": "stdout",
     "output_type": "stream",
     "text": [
      "Let's ensure there is no null after all the changes we have made:\n"
     ]
    },
    {
     "data": {
      "text/plain": [
       "AppointmentID       0\n",
       "Gender              0\n",
       "ScheduledDay        0\n",
       "AppointmentDay      0\n",
       "Age                 0\n",
       "Neighbourhood       0\n",
       "Scholarship         0\n",
       "Hipertension        0\n",
       "Diabetes            0\n",
       "Alcoholism          0\n",
       "Handcap             0\n",
       "SMS_received        0\n",
       "Show                0\n",
       "Nb_health_issues    0\n",
       "dtype: int64"
      ]
     },
     "execution_count": 353,
     "metadata": {},
     "output_type": "execute_result"
    }
   ],
   "source": [
    "print(\"Let's ensure there is no null after all the changes we have made:\")\n",
    "df.isnull().sum()"
   ]
  },
  {
   "cell_type": "code",
   "execution_count": 354,
   "metadata": {},
   "outputs": [
    {
     "name": "stdout",
     "output_type": "stream",
     "text": [
      "Lookig at the data type, ensuring it will allow us to analyze it as needed:\n"
     ]
    },
    {
     "data": {
      "text/plain": [
       "AppointmentID        int64\n",
       "Gender              object\n",
       "ScheduledDay        object\n",
       "AppointmentDay      object\n",
       "Age                  int64\n",
       "Neighbourhood       object\n",
       "Scholarship          int64\n",
       "Hipertension         int64\n",
       "Diabetes             int64\n",
       "Alcoholism           int64\n",
       "Handcap              int64\n",
       "SMS_received         int64\n",
       "Show                 int64\n",
       "Nb_health_issues     int64\n",
       "dtype: object"
      ]
     },
     "execution_count": 354,
     "metadata": {},
     "output_type": "execute_result"
    }
   ],
   "source": [
    "print(\"Lookig at the data type, ensuring it will allow us to analyze it as needed:\")\n",
    "df.dtypes"
   ]
  },
  {
   "cell_type": "code",
   "execution_count": 355,
   "metadata": {
    "scrolled": true
   },
   "outputs": [
    {
     "name": "stdout",
     "output_type": "stream",
     "text": [
      "Looking at how the data is distributed:\n"
     ]
    },
    {
     "data": {
      "image/png": "[encoded data removed]",
      "text/plain": [
       "<Figure size 720x576 with 12 Axes>"
      ]
     },
     "metadata": {},
     "output_type": "display_data"
    }
   ],
   "source": [
    "print('Looking at how the data is distributed:')\n",
    "df.hist();"
   ]
  },
  {
   "cell_type": "markdown",
   "metadata": {},
   "source": [
    "Looking at the Age histogram above, we can see that there is a lot of patients with the age of 0. Hopefully 0 represents newborns and not missing data. By looking at the data closer, we can see there is one patient with the age of -1."
   ]
  },
  {
   "cell_type": "code",
   "execution_count": 356,
   "metadata": {},
   "outputs": [
    {
     "name": "stdout",
     "output_type": "stream",
     "text": [
      "Indeed, it seems like there is some unnaccuracy in the way it was collected, look at the age:\n"
     ]
    },
    {
     "data": {
      "text/html": [
       "<div>\n",
       "<style scoped>\n",
       "    .dataframe tbody tr th:only-of-type {\n",
       "        vertical-align: middle;\n",
       "    }\n",
       "\n",
       "    .dataframe tbody tr th {\n",
       "        vertical-align: top;\n",
       "    }\n",
       "\n",
       "    .dataframe thead th {\n",
       "        text-align: right;\n",
       "    }\n",
       "</style>\n",
       "<table border=\"1\" class=\"dataframe\">\n",
       "  <thead>\n",
       "    <tr style=\"text-align: right;\">\n",
       "      <th></th>\n",
       "      <th>AppointmentID</th>\n",
       "      <th>Gender</th>\n",
       "      <th>ScheduledDay</th>\n",
       "      <th>AppointmentDay</th>\n",
       "      <th>Age</th>\n",
       "      <th>Neighbourhood</th>\n",
       "      <th>Scholarship</th>\n",
       "      <th>Hipertension</th>\n",
       "      <th>Diabetes</th>\n",
       "      <th>Alcoholism</th>\n",
       "      <th>Handcap</th>\n",
       "      <th>SMS_received</th>\n",
       "      <th>Show</th>\n",
       "      <th>Nb_health_issues</th>\n",
       "    </tr>\n",
       "  </thead>\n",
       "  <tbody>\n",
       "    <tr>\n",
       "      <th>99832</th>\n",
       "      <td>5775010</td>\n",
       "      <td>F</td>\n",
       "      <td>2016-06-06T08:58:13Z</td>\n",
       "      <td>2016-06-06T00:00:00Z</td>\n",
       "      <td>-1</td>\n",
       "      <td>ROMÃO</td>\n",
       "      <td>0</td>\n",
       "      <td>0</td>\n",
       "      <td>0</td>\n",
       "      <td>0</td>\n",
       "      <td>0</td>\n",
       "      <td>0</td>\n",
       "      <td>1</td>\n",
       "      <td>0</td>\n",
       "    </tr>\n",
       "  </tbody>\n",
       "</table>\n",
       "</div>"
      ],
      "text/plain": [
       "       AppointmentID Gender          ScheduledDay        AppointmentDay  Age  \\\n",
       "99832        5775010      F  2016-06-06T08:58:13Z  2016-06-06T00:00:00Z   -1   \n",
       "\n",
       "      Neighbourhood  Scholarship  Hipertension  Diabetes  Alcoholism  Handcap  \\\n",
       "99832         ROMÃO            0             0         0           0        0   \n",
       "\n",
       "       SMS_received  Show  Nb_health_issues  \n",
       "99832             0     1                 0  "
      ]
     },
     "execution_count": 356,
     "metadata": {},
     "output_type": "execute_result"
    }
   ],
   "source": [
    "print(\"Indeed, it seems like there is some unnaccuracy in the way it was collected, look at the age:\")\n",
    "df[df['Age'] == -1]"
   ]
  },
  {
   "cell_type": "markdown",
   "metadata": {},
   "source": [
    "<a id='eda'></a>\n",
    "## Exploratory Data Analysis\n",
    "\n",
    "Now that ywe've trimmed and cleaned our data, we're ready to move on to exploration. We are going to compute statistics and create visualizations with the goal of addressing the research questions we have addressed in the introduction. \n",
    "\n",
    "### 1: Is the age a variable influencing the attendance to an appointment?"
   ]
  },
  {
   "cell_type": "code",
   "execution_count": 357,
   "metadata": {},
   "outputs": [
    {
     "name": "stdout",
     "output_type": "stream",
     "text": [
      "The age is a widespread value, we have to look at some statistics to see if we can cut the data in groups:\n"
     ]
    },
    {
     "data": {
      "text/plain": [
       "count    110527.000000\n",
       "mean         37.088874\n",
       "std          23.110205\n",
       "min          -1.000000\n",
       "25%          18.000000\n",
       "50%          37.000000\n",
       "75%          55.000000\n",
       "max         115.000000\n",
       "Name: Age, dtype: float64"
      ]
     },
     "execution_count": 357,
     "metadata": {},
     "output_type": "execute_result"
    }
   ],
   "source": [
    "#we have to look first at some statistics about the Age data.\n",
    "print('The age is a widespread value, we have to look at some statistics to see if we can cut the data in groups:')\n",
    "df['Age'].describe()"
   ]
  },
  {
   "cell_type": "markdown",
   "metadata": {},
   "source": [
    "Let's use the min value, the 25 percentile, the median, the 75 percentile and the max value to store the age data in 4 groups."
   ]
  },
  {
   "cell_type": "code",
   "execution_count": 358,
   "metadata": {},
   "outputs": [
    {
     "name": "stdout",
     "output_type": "stream",
     "text": [
      "The bins are created, using the statistics data above:\n"
     ]
    },
    {
     "data": {
      "text/plain": [
       "[0, 18, 37, 75, 115]"
      ]
     },
     "execution_count": 358,
     "metadata": {},
     "output_type": "execute_result"
    }
   ],
   "source": [
    "#let's explore the age a bit more by cutting the group into bins, then we will look if the total numbers of folks who show up\n",
    "#change substantially\n",
    "print('The bins are created, using the statistics data above:')\n",
    "bin_edges= [0, 18, 37, 75, 115]\n",
    "bin_edges"
   ]
  },
  {
   "cell_type": "code",
   "execution_count": 359,
   "metadata": {},
   "outputs": [
    {
     "name": "stdout",
     "output_type": "stream",
     "text": [
      "We are giving names to these groups:\n"
     ]
    },
    {
     "data": {
      "text/plain": [
       "['Minor', 'Young Adult', 'Adult', 'Old']"
      ]
     },
     "execution_count": 359,
     "metadata": {},
     "output_type": "execute_result"
    }
   ],
   "source": [
    "print('We are giving names to these groups:')\n",
    "bin_names = ['Minor', 'Young Adult', 'Adult', 'Old']\n",
    "bin_names"
   ]
  },
  {
   "cell_type": "code",
   "execution_count": 360,
   "metadata": {},
   "outputs": [],
   "source": [
    "#We are using pandas's cut function to execute the storing of age data in our four groups\n",
    "df['age_group']=pd.cut(df['Age'], bin_edges, labels=bin_names)"
   ]
  },
  {
   "cell_type": "code",
   "execution_count": 361,
   "metadata": {},
   "outputs": [
    {
     "name": "stdout",
     "output_type": "stream",
     "text": [
      "To ensure our new column has been created, and our cutting worked well, we are printing the first row:\n"
     ]
    },
    {
     "data": {
      "text/html": [
       "<div>\n",
       "<style scoped>\n",
       "    .dataframe tbody tr th:only-of-type {\n",
       "        vertical-align: middle;\n",
       "    }\n",
       "\n",
       "    .dataframe tbody tr th {\n",
       "        vertical-align: top;\n",
       "    }\n",
       "\n",
       "    .dataframe thead th {\n",
       "        text-align: right;\n",
       "    }\n",
       "</style>\n",
       "<table border=\"1\" class=\"dataframe\">\n",
       "  <thead>\n",
       "    <tr style=\"text-align: right;\">\n",
       "      <th></th>\n",
       "      <th>AppointmentID</th>\n",
       "      <th>Gender</th>\n",
       "      <th>ScheduledDay</th>\n",
       "      <th>AppointmentDay</th>\n",
       "      <th>Age</th>\n",
       "      <th>Neighbourhood</th>\n",
       "      <th>Scholarship</th>\n",
       "      <th>Hipertension</th>\n",
       "      <th>Diabetes</th>\n",
       "      <th>Alcoholism</th>\n",
       "      <th>Handcap</th>\n",
       "      <th>SMS_received</th>\n",
       "      <th>Show</th>\n",
       "      <th>Nb_health_issues</th>\n",
       "      <th>age_group</th>\n",
       "    </tr>\n",
       "  </thead>\n",
       "  <tbody>\n",
       "    <tr>\n",
       "      <th>0</th>\n",
       "      <td>5642903</td>\n",
       "      <td>F</td>\n",
       "      <td>2016-04-29T18:38:08Z</td>\n",
       "      <td>2016-04-29T00:00:00Z</td>\n",
       "      <td>62</td>\n",
       "      <td>JARDIM DA PENHA</td>\n",
       "      <td>0</td>\n",
       "      <td>1</td>\n",
       "      <td>0</td>\n",
       "      <td>0</td>\n",
       "      <td>0</td>\n",
       "      <td>0</td>\n",
       "      <td>1</td>\n",
       "      <td>1</td>\n",
       "      <td>Adult</td>\n",
       "    </tr>\n",
       "  </tbody>\n",
       "</table>\n",
       "</div>"
      ],
      "text/plain": [
       "   AppointmentID Gender          ScheduledDay        AppointmentDay  Age  \\\n",
       "0        5642903      F  2016-04-29T18:38:08Z  2016-04-29T00:00:00Z   62   \n",
       "\n",
       "     Neighbourhood  Scholarship  Hipertension  Diabetes  Alcoholism  Handcap  \\\n",
       "0  JARDIM DA PENHA            0             1         0           0        0   \n",
       "\n",
       "   SMS_received  Show  Nb_health_issues age_group  \n",
       "0             0     1                 1     Adult  "
      ]
     },
     "execution_count": 361,
     "metadata": {},
     "output_type": "execute_result"
    }
   ],
   "source": [
    "print(\"To ensure our new column has been created, and our cutting worked well, we are printing the first row:\")\n",
    "df.head(1)"
   ]
  },
  {
   "cell_type": "markdown",
   "metadata": {},
   "source": [
    "Our new column has been successfully created! Let's look the proportion of attendance by age groups now!"
   ]
  },
  {
   "cell_type": "code",
   "execution_count": 362,
   "metadata": {},
   "outputs": [
    {
     "name": "stdout",
     "output_type": "stream",
     "text": [
      "Here is the proportion of patients attending their appointment by age groups, in percentage %:\n"
     ]
    },
    {
     "data": {
      "text/plain": [
       "age_group\n",
       "Minor          77.462787\n",
       "Young Adult    76.462385\n",
       "Adult          82.275899\n",
       "Old            83.864985\n",
       "Name: Show, dtype: float64"
      ]
     },
     "execution_count": 362,
     "metadata": {},
     "output_type": "execute_result"
    }
   ],
   "source": [
    "Proportion = (df[df['Show'] == 1].groupby('age_group')['Show'].count() / df.groupby('age_group')['Show'].count()) * 100\n",
    "print(\"Here is the proportion of patients attending their appointment by age groups, in percentage %:\")\n",
    "Proportion"
   ]
  },
  {
   "cell_type": "code",
   "execution_count": 363,
   "metadata": {
    "scrolled": false
   },
   "outputs": [
    {
     "name": "stdout",
     "output_type": "stream",
     "text": [
      "We can now visually see the proportion of attendance by age groups:\n"
     ]
    },
    {
     "data": {
      "image/png": "[encoded data removed]",
      "text/plain": [
       "<Figure size 720x576 with 1 Axes>"
      ]
     },
     "metadata": {},
     "output_type": "display_data"
    }
   ],
   "source": [
    "# plot bars\n",
    "print('We can now visually see the proportion of attendance by age groups:')\n",
    "ind = np.arange(len(Proportion))  # the x locations for the groups\n",
    "width = 0.35       # the width of the bars\n",
    "\n",
    "\n",
    "Blue_bars = plt.bar(ind, Proportion, width, color='b', alpha=.7)\n",
    "\n",
    "# title and labels\n",
    "plt.ylabel('% Proportion')\n",
    "plt.xlabel('Age group')\n",
    "plt.title('Proportion of Patients attending by Age groups')\n",
    "locations = ind + width / 2  # xtick locations\n",
    "labels = ['Minor', 'Young Adult', 'Adult', 'Old']  # xtick labels\n",
    "plt.xticks(locations, labels)\n",
    "\n",
    "plt.show()"
   ]
  },
  {
   "cell_type": "markdown",
   "metadata": {},
   "source": [
    "As seen on the distribution, the older you are, the more likely you are to show up. These people likely have more health issues too as we will see further below (Question 3)."
   ]
  },
  {
   "cell_type": "markdown",
   "metadata": {},
   "source": [
    "### 2: Now that we have seen the proportion of attendance by age groups. What is the number of appointments by age and gender?"
   ]
  },
  {
   "cell_type": "code",
   "execution_count": 364,
   "metadata": {},
   "outputs": [
    {
     "name": "stdout",
     "output_type": "stream",
     "text": [
      "The grouping is done:\n"
     ]
    },
    {
     "data": {
      "text/html": [
       "<div>\n",
       "<style scoped>\n",
       "    .dataframe tbody tr th:only-of-type {\n",
       "        vertical-align: middle;\n",
       "    }\n",
       "\n",
       "    .dataframe tbody tr th {\n",
       "        vertical-align: top;\n",
       "    }\n",
       "\n",
       "    .dataframe thead th {\n",
       "        text-align: right;\n",
       "    }\n",
       "</style>\n",
       "<table border=\"1\" class=\"dataframe\">\n",
       "  <thead>\n",
       "    <tr style=\"text-align: right;\">\n",
       "      <th></th>\n",
       "      <th></th>\n",
       "      <th>appointment</th>\n",
       "    </tr>\n",
       "    <tr>\n",
       "      <th>Age</th>\n",
       "      <th>Gender</th>\n",
       "      <th></th>\n",
       "    </tr>\n",
       "  </thead>\n",
       "  <tbody>\n",
       "    <tr>\n",
       "      <th>-1</th>\n",
       "      <th>F</th>\n",
       "      <td>1</td>\n",
       "    </tr>\n",
       "    <tr>\n",
       "      <th rowspan=\"2\" valign=\"top\">0</th>\n",
       "      <th>F</th>\n",
       "      <td>1721</td>\n",
       "    </tr>\n",
       "    <tr>\n",
       "      <th>M</th>\n",
       "      <td>1818</td>\n",
       "    </tr>\n",
       "    <tr>\n",
       "      <th rowspan=\"2\" valign=\"top\">1</th>\n",
       "      <th>F</th>\n",
       "      <td>1088</td>\n",
       "    </tr>\n",
       "    <tr>\n",
       "      <th>M</th>\n",
       "      <td>1185</td>\n",
       "    </tr>\n",
       "    <tr>\n",
       "      <th>...</th>\n",
       "      <th>...</th>\n",
       "      <td>...</td>\n",
       "    </tr>\n",
       "    <tr>\n",
       "      <th>99</th>\n",
       "      <th>F</th>\n",
       "      <td>1</td>\n",
       "    </tr>\n",
       "    <tr>\n",
       "      <th rowspan=\"2\" valign=\"top\">100</th>\n",
       "      <th>F</th>\n",
       "      <td>2</td>\n",
       "    </tr>\n",
       "    <tr>\n",
       "      <th>M</th>\n",
       "      <td>2</td>\n",
       "    </tr>\n",
       "    <tr>\n",
       "      <th>102</th>\n",
       "      <th>F</th>\n",
       "      <td>2</td>\n",
       "    </tr>\n",
       "    <tr>\n",
       "      <th>115</th>\n",
       "      <th>F</th>\n",
       "      <td>5</td>\n",
       "    </tr>\n",
       "  </tbody>\n",
       "</table>\n",
       "<p>204 rows × 1 columns</p>\n",
       "</div>"
      ],
      "text/plain": [
       "             appointment\n",
       "Age  Gender             \n",
       "-1   F                 1\n",
       " 0   F              1721\n",
       "     M              1818\n",
       " 1   F              1088\n",
       "     M              1185\n",
       "...                  ...\n",
       " 99  F                 1\n",
       " 100 F                 2\n",
       "     M                 2\n",
       " 102 F                 2\n",
       " 115 F                 5\n",
       "\n",
       "[204 rows x 1 columns]"
      ]
     },
     "execution_count": 364,
     "metadata": {},
     "output_type": "execute_result"
    }
   ],
   "source": [
    "#We have to use groupby function again to group by age and gender\n",
    "print('The grouping is done:')\n",
    "df_gender_age = df.groupby(['Age', 'Gender']).agg(appointment=('AppointmentID', 'count'))\n",
    "df_gender_age"
   ]
  },
  {
   "cell_type": "markdown",
   "metadata": {},
   "source": [
    "The age has been automatically set as index, we need to change that."
   ]
  },
  {
   "cell_type": "code",
   "execution_count": 365,
   "metadata": {},
   "outputs": [],
   "source": [
    "#Let's use reset_index function to remove the age as index\n",
    "df_gender_age.reset_index(drop=False, inplace=True)"
   ]
  },
  {
   "cell_type": "code",
   "execution_count": 366,
   "metadata": {},
   "outputs": [
    {
     "name": "stdout",
     "output_type": "stream",
     "text": [
      "The structure of the data is:\n"
     ]
    },
    {
     "data": {
      "text/html": [
       "<div>\n",
       "<style scoped>\n",
       "    .dataframe tbody tr th:only-of-type {\n",
       "        vertical-align: middle;\n",
       "    }\n",
       "\n",
       "    .dataframe tbody tr th {\n",
       "        vertical-align: top;\n",
       "    }\n",
       "\n",
       "    .dataframe thead th {\n",
       "        text-align: right;\n",
       "    }\n",
       "</style>\n",
       "<table border=\"1\" class=\"dataframe\">\n",
       "  <thead>\n",
       "    <tr style=\"text-align: right;\">\n",
       "      <th></th>\n",
       "      <th>Age</th>\n",
       "      <th>Gender</th>\n",
       "      <th>appointment</th>\n",
       "    </tr>\n",
       "  </thead>\n",
       "  <tbody>\n",
       "    <tr>\n",
       "      <th>0</th>\n",
       "      <td>-1</td>\n",
       "      <td>F</td>\n",
       "      <td>1</td>\n",
       "    </tr>\n",
       "    <tr>\n",
       "      <th>1</th>\n",
       "      <td>0</td>\n",
       "      <td>F</td>\n",
       "      <td>1721</td>\n",
       "    </tr>\n",
       "    <tr>\n",
       "      <th>2</th>\n",
       "      <td>0</td>\n",
       "      <td>M</td>\n",
       "      <td>1818</td>\n",
       "    </tr>\n",
       "    <tr>\n",
       "      <th>3</th>\n",
       "      <td>1</td>\n",
       "      <td>F</td>\n",
       "      <td>1088</td>\n",
       "    </tr>\n",
       "    <tr>\n",
       "      <th>4</th>\n",
       "      <td>1</td>\n",
       "      <td>M</td>\n",
       "      <td>1185</td>\n",
       "    </tr>\n",
       "  </tbody>\n",
       "</table>\n",
       "</div>"
      ],
      "text/plain": [
       "   Age Gender  appointment\n",
       "0   -1      F            1\n",
       "1    0      F         1721\n",
       "2    0      M         1818\n",
       "3    1      F         1088\n",
       "4    1      M         1185"
      ]
     },
     "execution_count": 366,
     "metadata": {},
     "output_type": "execute_result"
    }
   ],
   "source": [
    "#We need to look at the first 5 rows to ensure the operation computed above worked\n",
    "print('The structure of the data is:')\n",
    "df_gender_age.head()"
   ]
  },
  {
   "cell_type": "code",
   "execution_count": 367,
   "metadata": {},
   "outputs": [
    {
     "name": "stdout",
     "output_type": "stream",
     "text": [
      "The plotting of \"Number of appointments by age and gender\" : \n"
     ]
    },
    {
     "data": {
      "image/png": "[encoded data removed]",
      "text/plain": [
       "<Figure size 720x576 with 1 Axes>"
      ]
     },
     "metadata": {},
     "output_type": "display_data"
    }
   ],
   "source": [
    "#Let's plot this now:\n",
    "print('The plotting of \"Number of appointments by age and gender\" : ')\n",
    "\n",
    "sns.lineplot(x = 'Age', y = 'appointment', hue=\"Gender\",ci=None, data=df_gender_age)\n",
    "plt.title(\"Number of appointments by Age\")\n",
    "plt.ylabel(\"Number of appointment\")\n",
    "plt.xlabel(\"Age\")\n",
    "plt.show()"
   ]
  },
  {
   "cell_type": "markdown",
   "metadata": {},
   "source": [
    "Clearly, the number of appointments increases with the age. Female tends to have more health appointment that men.\n",
    "The age mode for both male and female is 0 (where both curves peak!)."
   ]
  },
  {
   "cell_type": "markdown",
   "metadata": {},
   "source": [
    "### 3: Is there any correlation between all the health issue variables, the age and the attendance?"
   ]
  },
  {
   "cell_type": "code",
   "execution_count": 368,
   "metadata": {},
   "outputs": [
    {
     "name": "stdout",
     "output_type": "stream",
     "text": [
      "The correlation grid:\n"
     ]
    },
    {
     "data": {
      "text/html": [
       "<style  type=\"text/css\" >\n",
       "    #T_8578c6f5_db2e_11ea_8969_38d547a76cfdrow0_col0 {\n",
       "            background-color:  #b40426;\n",
       "            color:  #f1f1f1;\n",
       "        }    #T_8578c6f5_db2e_11ea_8969_38d547a76cfdrow0_col1 {\n",
       "            background-color:  #3b4cc0;\n",
       "            color:  #f1f1f1;\n",
       "        }    #T_8578c6f5_db2e_11ea_8969_38d547a76cfdrow0_col2 {\n",
       "            background-color:  #e0dbd8;\n",
       "            color:  #000000;\n",
       "        }    #T_8578c6f5_db2e_11ea_8969_38d547a76cfdrow0_col3 {\n",
       "            background-color:  #a2c1ff;\n",
       "            color:  #000000;\n",
       "        }    #T_8578c6f5_db2e_11ea_8969_38d547a76cfdrow0_col4 {\n",
       "            background-color:  #5875e1;\n",
       "            color:  #000000;\n",
       "        }    #T_8578c6f5_db2e_11ea_8969_38d547a76cfdrow0_col5 {\n",
       "            background-color:  #5470de;\n",
       "            color:  #000000;\n",
       "        }    #T_8578c6f5_db2e_11ea_8969_38d547a76cfdrow0_col6 {\n",
       "            background-color:  #dadce0;\n",
       "            color:  #000000;\n",
       "        }    #T_8578c6f5_db2e_11ea_8969_38d547a76cfdrow0_col7 {\n",
       "            background-color:  #5572df;\n",
       "            color:  #000000;\n",
       "        }    #T_8578c6f5_db2e_11ea_8969_38d547a76cfdrow1_col0 {\n",
       "            background-color:  #3b4cc0;\n",
       "            color:  #f1f1f1;\n",
       "        }    #T_8578c6f5_db2e_11ea_8969_38d547a76cfdrow1_col1 {\n",
       "            background-color:  #b40426;\n",
       "            color:  #f1f1f1;\n",
       "        }    #T_8578c6f5_db2e_11ea_8969_38d547a76cfdrow1_col2 {\n",
       "            background-color:  #3b4cc0;\n",
       "            color:  #f1f1f1;\n",
       "        }    #T_8578c6f5_db2e_11ea_8969_38d547a76cfdrow1_col3 {\n",
       "            background-color:  #3b4cc0;\n",
       "            color:  #f1f1f1;\n",
       "        }    #T_8578c6f5_db2e_11ea_8969_38d547a76cfdrow1_col4 {\n",
       "            background-color:  #445acc;\n",
       "            color:  #f1f1f1;\n",
       "        }    #T_8578c6f5_db2e_11ea_8969_38d547a76cfdrow1_col5 {\n",
       "            background-color:  #3b4cc0;\n",
       "            color:  #f1f1f1;\n",
       "        }    #T_8578c6f5_db2e_11ea_8969_38d547a76cfdrow1_col6 {\n",
       "            background-color:  #3b4cc0;\n",
       "            color:  #f1f1f1;\n",
       "        }    #T_8578c6f5_db2e_11ea_8969_38d547a76cfdrow1_col7 {\n",
       "            background-color:  #3b4cc0;\n",
       "            color:  #f1f1f1;\n",
       "        }    #T_8578c6f5_db2e_11ea_8969_38d547a76cfdrow2_col0 {\n",
       "            background-color:  #e8d6cc;\n",
       "            color:  #000000;\n",
       "        }    #T_8578c6f5_db2e_11ea_8969_38d547a76cfdrow2_col1 {\n",
       "            background-color:  #4f69d9;\n",
       "            color:  #000000;\n",
       "        }    #T_8578c6f5_db2e_11ea_8969_38d547a76cfdrow2_col2 {\n",
       "            background-color:  #b40426;\n",
       "            color:  #f1f1f1;\n",
       "        }    #T_8578c6f5_db2e_11ea_8969_38d547a76cfdrow2_col3 {\n",
       "            background-color:  #cedaeb;\n",
       "            color:  #000000;\n",
       "        }    #T_8578c6f5_db2e_11ea_8969_38d547a76cfdrow2_col4 {\n",
       "            background-color:  #5572df;\n",
       "            color:  #000000;\n",
       "        }    #T_8578c6f5_db2e_11ea_8969_38d547a76cfdrow2_col5 {\n",
       "            background-color:  #5572df;\n",
       "            color:  #000000;\n",
       "        }    #T_8578c6f5_db2e_11ea_8969_38d547a76cfdrow2_col6 {\n",
       "            background-color:  #e36b54;\n",
       "            color:  #000000;\n",
       "        }    #T_8578c6f5_db2e_11ea_8969_38d547a76cfdrow2_col7 {\n",
       "            background-color:  #4e68d8;\n",
       "            color:  #000000;\n",
       "        }    #T_8578c6f5_db2e_11ea_8969_38d547a76cfdrow3_col0 {\n",
       "            background-color:  #b1cbfc;\n",
       "            color:  #000000;\n",
       "        }    #T_8578c6f5_db2e_11ea_8969_38d547a76cfdrow3_col1 {\n",
       "            background-color:  #4c66d6;\n",
       "            color:  #000000;\n",
       "        }    #T_8578c6f5_db2e_11ea_8969_38d547a76cfdrow3_col2 {\n",
       "            background-color:  #cdd9ec;\n",
       "            color:  #000000;\n",
       "        }    #T_8578c6f5_db2e_11ea_8969_38d547a76cfdrow3_col3 {\n",
       "            background-color:  #b40426;\n",
       "            color:  #f1f1f1;\n",
       "        }    #T_8578c6f5_db2e_11ea_8969_38d547a76cfdrow3_col4 {\n",
       "            background-color:  #3f53c6;\n",
       "            color:  #f1f1f1;\n",
       "        }    #T_8578c6f5_db2e_11ea_8969_38d547a76cfdrow3_col5 {\n",
       "            background-color:  #4e68d8;\n",
       "            color:  #000000;\n",
       "        }    #T_8578c6f5_db2e_11ea_8969_38d547a76cfdrow3_col6 {\n",
       "            background-color:  #f7aa8c;\n",
       "            color:  #000000;\n",
       "        }    #T_8578c6f5_db2e_11ea_8969_38d547a76cfdrow3_col7 {\n",
       "            background-color:  #485fd1;\n",
       "            color:  #f1f1f1;\n",
       "        }    #T_8578c6f5_db2e_11ea_8969_38d547a76cfdrow4_col0 {\n",
       "            background-color:  #7295f4;\n",
       "            color:  #000000;\n",
       "        }    #T_8578c6f5_db2e_11ea_8969_38d547a76cfdrow4_col1 {\n",
       "            background-color:  #5e7de7;\n",
       "            color:  #000000;\n",
       "        }    #T_8578c6f5_db2e_11ea_8969_38d547a76cfdrow4_col2 {\n",
       "            background-color:  #5b7ae5;\n",
       "            color:  #000000;\n",
       "        }    #T_8578c6f5_db2e_11ea_8969_38d547a76cfdrow4_col3 {\n",
       "            background-color:  #465ecf;\n",
       "            color:  #f1f1f1;\n",
       "        }    #T_8578c6f5_db2e_11ea_8969_38d547a76cfdrow4_col4 {\n",
       "            background-color:  #b40426;\n",
       "            color:  #f1f1f1;\n",
       "        }    #T_8578c6f5_db2e_11ea_8969_38d547a76cfdrow4_col5 {\n",
       "            background-color:  #3e51c5;\n",
       "            color:  #f1f1f1;\n",
       "        }    #T_8578c6f5_db2e_11ea_8969_38d547a76cfdrow4_col6 {\n",
       "            background-color:  #aec9fc;\n",
       "            color:  #000000;\n",
       "        }    #T_8578c6f5_db2e_11ea_8969_38d547a76cfdrow4_col7 {\n",
       "            background-color:  #4358cb;\n",
       "            color:  #f1f1f1;\n",
       "        }    #T_8578c6f5_db2e_11ea_8969_38d547a76cfdrow5_col0 {\n",
       "            background-color:  #6b8df0;\n",
       "            color:  #000000;\n",
       "        }    #T_8578c6f5_db2e_11ea_8969_38d547a76cfdrow5_col1 {\n",
       "            background-color:  #516ddb;\n",
       "            color:  #000000;\n",
       "        }    #T_8578c6f5_db2e_11ea_8969_38d547a76cfdrow5_col2 {\n",
       "            background-color:  #5977e3;\n",
       "            color:  #000000;\n",
       "        }    #T_8578c6f5_db2e_11ea_8969_38d547a76cfdrow5_col3 {\n",
       "            background-color:  #536edd;\n",
       "            color:  #000000;\n",
       "        }    #T_8578c6f5_db2e_11ea_8969_38d547a76cfdrow5_col4 {\n",
       "            background-color:  #3c4ec2;\n",
       "            color:  #f1f1f1;\n",
       "        }    #T_8578c6f5_db2e_11ea_8969_38d547a76cfdrow5_col5 {\n",
       "            background-color:  #b40426;\n",
       "            color:  #f1f1f1;\n",
       "        }    #T_8578c6f5_db2e_11ea_8969_38d547a76cfdrow5_col6 {\n",
       "            background-color:  #adc9fd;\n",
       "            color:  #000000;\n",
       "        }    #T_8578c6f5_db2e_11ea_8969_38d547a76cfdrow5_col7 {\n",
       "            background-color:  #445acc;\n",
       "            color:  #f1f1f1;\n",
       "        }    #T_8578c6f5_db2e_11ea_8969_38d547a76cfdrow6_col0 {\n",
       "            background-color:  #e3d9d3;\n",
       "            color:  #000000;\n",
       "        }    #T_8578c6f5_db2e_11ea_8969_38d547a76cfdrow6_col1 {\n",
       "            background-color:  #506bda;\n",
       "            color:  #000000;\n",
       "        }    #T_8578c6f5_db2e_11ea_8969_38d547a76cfdrow6_col2 {\n",
       "            background-color:  #e36b54;\n",
       "            color:  #000000;\n",
       "        }    #T_8578c6f5_db2e_11ea_8969_38d547a76cfdrow6_col3 {\n",
       "            background-color:  #f7a98b;\n",
       "            color:  #000000;\n",
       "        }    #T_8578c6f5_db2e_11ea_8969_38d547a76cfdrow6_col4 {\n",
       "            background-color:  #abc8fd;\n",
       "            color:  #000000;\n",
       "        }    #T_8578c6f5_db2e_11ea_8969_38d547a76cfdrow6_col5 {\n",
       "            background-color:  #abc8fd;\n",
       "            color:  #000000;\n",
       "        }    #T_8578c6f5_db2e_11ea_8969_38d547a76cfdrow6_col6 {\n",
       "            background-color:  #b40426;\n",
       "            color:  #f1f1f1;\n",
       "        }    #T_8578c6f5_db2e_11ea_8969_38d547a76cfdrow6_col7 {\n",
       "            background-color:  #4b64d5;\n",
       "            color:  #f1f1f1;\n",
       "        }    #T_8578c6f5_db2e_11ea_8969_38d547a76cfdrow7_col0 {\n",
       "            background-color:  #6687ed;\n",
       "            color:  #000000;\n",
       "        }    #T_8578c6f5_db2e_11ea_8969_38d547a76cfdrow7_col1 {\n",
       "            background-color:  #4b64d5;\n",
       "            color:  #f1f1f1;\n",
       "        }    #T_8578c6f5_db2e_11ea_8969_38d547a76cfdrow7_col2 {\n",
       "            background-color:  #4a63d3;\n",
       "            color:  #f1f1f1;\n",
       "        }    #T_8578c6f5_db2e_11ea_8969_38d547a76cfdrow7_col3 {\n",
       "            background-color:  #465ecf;\n",
       "            color:  #f1f1f1;\n",
       "        }    #T_8578c6f5_db2e_11ea_8969_38d547a76cfdrow7_col4 {\n",
       "            background-color:  #3b4cc0;\n",
       "            color:  #f1f1f1;\n",
       "        }    #T_8578c6f5_db2e_11ea_8969_38d547a76cfdrow7_col5 {\n",
       "            background-color:  #3e51c5;\n",
       "            color:  #f1f1f1;\n",
       "        }    #T_8578c6f5_db2e_11ea_8969_38d547a76cfdrow7_col6 {\n",
       "            background-color:  #485fd1;\n",
       "            color:  #f1f1f1;\n",
       "        }    #T_8578c6f5_db2e_11ea_8969_38d547a76cfdrow7_col7 {\n",
       "            background-color:  #b40426;\n",
       "            color:  #f1f1f1;\n",
       "        }</style><table id=\"T_8578c6f5_db2e_11ea_8969_38d547a76cfd\" ><thead>    <tr>        <th class=\"blank level0\" ></th>        <th class=\"col_heading level0 col0\" >Age</th>        <th class=\"col_heading level0 col1\" >Scholarship</th>        <th class=\"col_heading level0 col2\" >Hipertension</th>        <th class=\"col_heading level0 col3\" >Diabetes</th>        <th class=\"col_heading level0 col4\" >Alcoholism</th>        <th class=\"col_heading level0 col5\" >Handcap</th>        <th class=\"col_heading level0 col6\" >Nb_health_issues</th>        <th class=\"col_heading level0 col7\" >Show</th>    </tr></thead><tbody>\n",
       "                <tr>\n",
       "                        <th id=\"T_8578c6f5_db2e_11ea_8969_38d547a76cfdlevel0_row0\" class=\"row_heading level0 row0\" >Age</th>\n",
       "                        <td id=\"T_8578c6f5_db2e_11ea_8969_38d547a76cfdrow0_col0\" class=\"data row0 col0\" >1.000000</td>\n",
       "                        <td id=\"T_8578c6f5_db2e_11ea_8969_38d547a76cfdrow0_col1\" class=\"data row0 col1\" >-0.092457</td>\n",
       "                        <td id=\"T_8578c6f5_db2e_11ea_8969_38d547a76cfdrow0_col2\" class=\"data row0 col2\" >0.504586</td>\n",
       "                        <td id=\"T_8578c6f5_db2e_11ea_8969_38d547a76cfdrow0_col3\" class=\"data row0 col3\" >0.292391</td>\n",
       "                        <td id=\"T_8578c6f5_db2e_11ea_8969_38d547a76cfdrow0_col4\" class=\"data row0 col4\" >0.095811</td>\n",
       "                        <td id=\"T_8578c6f5_db2e_11ea_8969_38d547a76cfdrow0_col5\" class=\"data row0 col5\" >0.078033</td>\n",
       "                        <td id=\"T_8578c6f5_db2e_11ea_8969_38d547a76cfdrow0_col6\" class=\"data row0 col6\" >0.483631</td>\n",
       "                        <td id=\"T_8578c6f5_db2e_11ea_8969_38d547a76cfdrow0_col7\" class=\"data row0 col7\" >0.060319</td>\n",
       "            </tr>\n",
       "            <tr>\n",
       "                        <th id=\"T_8578c6f5_db2e_11ea_8969_38d547a76cfdlevel0_row1\" class=\"row_heading level0 row1\" >Scholarship</th>\n",
       "                        <td id=\"T_8578c6f5_db2e_11ea_8969_38d547a76cfdrow1_col0\" class=\"data row1 col0\" >-0.092457</td>\n",
       "                        <td id=\"T_8578c6f5_db2e_11ea_8969_38d547a76cfdrow1_col1\" class=\"data row1 col1\" >1.000000</td>\n",
       "                        <td id=\"T_8578c6f5_db2e_11ea_8969_38d547a76cfdrow1_col2\" class=\"data row1 col2\" >-0.019729</td>\n",
       "                        <td id=\"T_8578c6f5_db2e_11ea_8969_38d547a76cfdrow1_col3\" class=\"data row1 col3\" >-0.024894</td>\n",
       "                        <td id=\"T_8578c6f5_db2e_11ea_8969_38d547a76cfdrow1_col4\" class=\"data row1 col4\" >0.035022</td>\n",
       "                        <td id=\"T_8578c6f5_db2e_11ea_8969_38d547a76cfdrow1_col5\" class=\"data row1 col5\" >-0.008586</td>\n",
       "                        <td id=\"T_8578c6f5_db2e_11ea_8969_38d547a76cfdrow1_col6\" class=\"data row1 col6\" >-0.015290</td>\n",
       "                        <td id=\"T_8578c6f5_db2e_11ea_8969_38d547a76cfdrow1_col7\" class=\"data row1 col7\" >-0.029135</td>\n",
       "            </tr>\n",
       "            <tr>\n",
       "                        <th id=\"T_8578c6f5_db2e_11ea_8969_38d547a76cfdlevel0_row2\" class=\"row_heading level0 row2\" >Hipertension</th>\n",
       "                        <td id=\"T_8578c6f5_db2e_11ea_8969_38d547a76cfdrow2_col0\" class=\"data row2 col0\" >0.504586</td>\n",
       "                        <td id=\"T_8578c6f5_db2e_11ea_8969_38d547a76cfdrow2_col1\" class=\"data row2 col1\" >-0.019729</td>\n",
       "                        <td id=\"T_8578c6f5_db2e_11ea_8969_38d547a76cfdrow2_col2\" class=\"data row2 col2\" >1.000000</td>\n",
       "                        <td id=\"T_8578c6f5_db2e_11ea_8969_38d547a76cfdrow2_col3\" class=\"data row2 col3\" >0.433086</td>\n",
       "                        <td id=\"T_8578c6f5_db2e_11ea_8969_38d547a76cfdrow2_col4\" class=\"data row2 col4\" >0.087971</td>\n",
       "                        <td id=\"T_8578c6f5_db2e_11ea_8969_38d547a76cfdrow2_col5\" class=\"data row2 col5\" >0.080083</td>\n",
       "                        <td id=\"T_8578c6f5_db2e_11ea_8969_38d547a76cfdrow2_col6\" class=\"data row2 col6\" >0.851803</td>\n",
       "                        <td id=\"T_8578c6f5_db2e_11ea_8969_38d547a76cfdrow2_col7\" class=\"data row2 col7\" >0.035701</td>\n",
       "            </tr>\n",
       "            <tr>\n",
       "                        <th id=\"T_8578c6f5_db2e_11ea_8969_38d547a76cfdlevel0_row3\" class=\"row_heading level0 row3\" >Diabetes</th>\n",
       "                        <td id=\"T_8578c6f5_db2e_11ea_8969_38d547a76cfdrow3_col0\" class=\"data row3 col0\" >0.292391</td>\n",
       "                        <td id=\"T_8578c6f5_db2e_11ea_8969_38d547a76cfdrow3_col1\" class=\"data row3 col1\" >-0.024894</td>\n",
       "                        <td id=\"T_8578c6f5_db2e_11ea_8969_38d547a76cfdrow3_col2\" class=\"data row3 col2\" >0.433086</td>\n",
       "                        <td id=\"T_8578c6f5_db2e_11ea_8969_38d547a76cfdrow3_col3\" class=\"data row3 col3\" >1.000000</td>\n",
       "                        <td id=\"T_8578c6f5_db2e_11ea_8969_38d547a76cfdrow3_col4\" class=\"data row3 col4\" >0.018474</td>\n",
       "                        <td id=\"T_8578c6f5_db2e_11ea_8969_38d547a76cfdrow3_col5\" class=\"data row3 col5\" >0.057530</td>\n",
       "                        <td id=\"T_8578c6f5_db2e_11ea_8969_38d547a76cfdrow3_col6\" class=\"data row3 col6\" >0.701738</td>\n",
       "                        <td id=\"T_8578c6f5_db2e_11ea_8969_38d547a76cfdrow3_col7\" class=\"data row3 col7\" >0.015180</td>\n",
       "            </tr>\n",
       "            <tr>\n",
       "                        <th id=\"T_8578c6f5_db2e_11ea_8969_38d547a76cfdlevel0_row4\" class=\"row_heading level0 row4\" >Alcoholism</th>\n",
       "                        <td id=\"T_8578c6f5_db2e_11ea_8969_38d547a76cfdrow4_col0\" class=\"data row4 col0\" >0.095811</td>\n",
       "                        <td id=\"T_8578c6f5_db2e_11ea_8969_38d547a76cfdrow4_col1\" class=\"data row4 col1\" >0.035022</td>\n",
       "                        <td id=\"T_8578c6f5_db2e_11ea_8969_38d547a76cfdrow4_col2\" class=\"data row4 col2\" >0.087971</td>\n",
       "                        <td id=\"T_8578c6f5_db2e_11ea_8969_38d547a76cfdrow4_col3\" class=\"data row4 col3\" >0.018474</td>\n",
       "                        <td id=\"T_8578c6f5_db2e_11ea_8969_38d547a76cfdrow4_col4\" class=\"data row4 col4\" >1.000000</td>\n",
       "                        <td id=\"T_8578c6f5_db2e_11ea_8969_38d547a76cfdrow4_col5\" class=\"data row4 col5\" >0.004648</td>\n",
       "                        <td id=\"T_8578c6f5_db2e_11ea_8969_38d547a76cfdrow4_col6\" class=\"data row4 col6\" >0.336109</td>\n",
       "                        <td id=\"T_8578c6f5_db2e_11ea_8969_38d547a76cfdrow4_col7\" class=\"data row4 col7\" >0.000196</td>\n",
       "            </tr>\n",
       "            <tr>\n",
       "                        <th id=\"T_8578c6f5_db2e_11ea_8969_38d547a76cfdlevel0_row5\" class=\"row_heading level0 row5\" >Handcap</th>\n",
       "                        <td id=\"T_8578c6f5_db2e_11ea_8969_38d547a76cfdrow5_col0\" class=\"data row5 col0\" >0.078033</td>\n",
       "                        <td id=\"T_8578c6f5_db2e_11ea_8969_38d547a76cfdrow5_col1\" class=\"data row5 col1\" >-0.008586</td>\n",
       "                        <td id=\"T_8578c6f5_db2e_11ea_8969_38d547a76cfdrow5_col2\" class=\"data row5 col2\" >0.080083</td>\n",
       "                        <td id=\"T_8578c6f5_db2e_11ea_8969_38d547a76cfdrow5_col3\" class=\"data row5 col3\" >0.057530</td>\n",
       "                        <td id=\"T_8578c6f5_db2e_11ea_8969_38d547a76cfdrow5_col4\" class=\"data row5 col4\" >0.004648</td>\n",
       "                        <td id=\"T_8578c6f5_db2e_11ea_8969_38d547a76cfdrow5_col5\" class=\"data row5 col5\" >1.000000</td>\n",
       "                        <td id=\"T_8578c6f5_db2e_11ea_8969_38d547a76cfdrow5_col6\" class=\"data row5 col6\" >0.331124</td>\n",
       "                        <td id=\"T_8578c6f5_db2e_11ea_8969_38d547a76cfdrow5_col7\" class=\"data row5 col7\" >0.006076</td>\n",
       "            </tr>\n",
       "            <tr>\n",
       "                        <th id=\"T_8578c6f5_db2e_11ea_8969_38d547a76cfdlevel0_row6\" class=\"row_heading level0 row6\" >Nb_health_issues</th>\n",
       "                        <td id=\"T_8578c6f5_db2e_11ea_8969_38d547a76cfdrow6_col0\" class=\"data row6 col0\" >0.483631</td>\n",
       "                        <td id=\"T_8578c6f5_db2e_11ea_8969_38d547a76cfdrow6_col1\" class=\"data row6 col1\" >-0.015290</td>\n",
       "                        <td id=\"T_8578c6f5_db2e_11ea_8969_38d547a76cfdrow6_col2\" class=\"data row6 col2\" >0.851803</td>\n",
       "                        <td id=\"T_8578c6f5_db2e_11ea_8969_38d547a76cfdrow6_col3\" class=\"data row6 col3\" >0.701738</td>\n",
       "                        <td id=\"T_8578c6f5_db2e_11ea_8969_38d547a76cfdrow6_col4\" class=\"data row6 col4\" >0.336109</td>\n",
       "                        <td id=\"T_8578c6f5_db2e_11ea_8969_38d547a76cfdrow6_col5\" class=\"data row6 col5\" >0.331124</td>\n",
       "                        <td id=\"T_8578c6f5_db2e_11ea_8969_38d547a76cfdrow6_col6\" class=\"data row6 col6\" >1.000000</td>\n",
       "                        <td id=\"T_8578c6f5_db2e_11ea_8969_38d547a76cfdrow6_col7\" class=\"data row6 col7\" >0.030318</td>\n",
       "            </tr>\n",
       "            <tr>\n",
       "                        <th id=\"T_8578c6f5_db2e_11ea_8969_38d547a76cfdlevel0_row7\" class=\"row_heading level0 row7\" >Show</th>\n",
       "                        <td id=\"T_8578c6f5_db2e_11ea_8969_38d547a76cfdrow7_col0\" class=\"data row7 col0\" >0.060319</td>\n",
       "                        <td id=\"T_8578c6f5_db2e_11ea_8969_38d547a76cfdrow7_col1\" class=\"data row7 col1\" >-0.029135</td>\n",
       "                        <td id=\"T_8578c6f5_db2e_11ea_8969_38d547a76cfdrow7_col2\" class=\"data row7 col2\" >0.035701</td>\n",
       "                        <td id=\"T_8578c6f5_db2e_11ea_8969_38d547a76cfdrow7_col3\" class=\"data row7 col3\" >0.015180</td>\n",
       "                        <td id=\"T_8578c6f5_db2e_11ea_8969_38d547a76cfdrow7_col4\" class=\"data row7 col4\" >0.000196</td>\n",
       "                        <td id=\"T_8578c6f5_db2e_11ea_8969_38d547a76cfdrow7_col5\" class=\"data row7 col5\" >0.006076</td>\n",
       "                        <td id=\"T_8578c6f5_db2e_11ea_8969_38d547a76cfdrow7_col6\" class=\"data row7 col6\" >0.030318</td>\n",
       "                        <td id=\"T_8578c6f5_db2e_11ea_8969_38d547a76cfdrow7_col7\" class=\"data row7 col7\" >1.000000</td>\n",
       "            </tr>\n",
       "    </tbody></table>"
      ],
      "text/plain": [
       "<pandas.io.formats.style.Styler at 0x253b376d0d0>"
      ]
     },
     "execution_count": 368,
     "metadata": {},
     "output_type": "execute_result"
    }
   ],
   "source": [
    "#Setting up the correlation grid to see the relation between variables\n",
    "print('The correlation grid:')\n",
    "df_health = df[['Age', 'Scholarship', 'Hipertension', 'Diabetes', 'Alcoholism', 'Handcap', 'Nb_health_issues', 'Show']]\n",
    "corr = df_health.corr()\n",
    "corr.style.background_gradient(cmap='coolwarm')"
   ]
  },
  {
   "cell_type": "markdown",
   "metadata": {},
   "source": [
    "Indeed, the relation between the age and the number of health issue is quite significant. Hipertension being the most represented among these observations.\n",
    "\n",
    "Although, Number of health issues doesn't correlate the attendance."
   ]
  },
  {
   "cell_type": "markdown",
   "metadata": {},
   "source": [
    "### 4: Does having a scholarship make people attend their appointment more? "
   ]
  },
  {
   "cell_type": "code",
   "execution_count": 369,
   "metadata": {},
   "outputs": [
    {
     "name": "stdout",
     "output_type": "stream",
     "text": [
      "The new dataframe looks like this:\n"
     ]
    },
    {
     "data": {
      "text/plain": [
       "Scholarship  Gender\n",
       "0            F         80.173687\n",
       "             M         80.225742\n",
       "1            F         76.211454\n",
       "             M         76.494024\n",
       "Name: Show, dtype: float64"
      ]
     },
     "execution_count": 369,
     "metadata": {},
     "output_type": "execute_result"
    }
   ],
   "source": [
    "#We need to use groupby function again to create a new dataset where we will be able to compare the attendance\n",
    "#depending of the Scholarship access and the gender\n",
    "print('The new dataframe looks like this:')\n",
    "df_scholarship = (df[df['Show'] == 1].groupby(['Scholarship','Gender'])['Show'].count() / df.groupby(['Scholarship','Gender'])['Show'].count())*100\n",
    "df_scholarship"
   ]
  },
  {
   "cell_type": "code",
   "execution_count": 370,
   "metadata": {},
   "outputs": [
    {
     "name": "stdout",
     "output_type": "stream",
     "text": [
      "We can now visually see the proportion of attendance depending of the scholarship access and gender is below:\n"
     ]
    },
    {
     "data": {
      "image/png": "[encoded data removed]",
      "text/plain": [
       "<Figure size 720x576 with 1 Axes>"
      ]
     },
     "metadata": {},
     "output_type": "display_data"
    }
   ],
   "source": [
    "#Let's plot this now\n",
    "print('We can now visually see the proportion of attendance depending of the scholarship access and gender is below:')\n",
    "df_scholarship.plot(kind='bar')\n",
    "plt.ylabel('% Proportion')\n",
    "plt.xlabel('Age group')\n",
    "plt.title('Proportion of Patients attending by Gender and access to Scholarship')\n",
    "plt.show()"
   ]
  },
  {
   "cell_type": "markdown",
   "metadata": {},
   "source": [
    "Strangely, people with Scholarship tend to attend their apppointment less than people without, regarless of their gender.\n",
    "The proportion of attendance by Gender, regardless of scholarship, is not very different from one gender to another."
   ]
  },
  {
   "cell_type": "markdown",
   "metadata": {},
   "source": [
    "### 5: Is there a big difference of attendance depending of the neighbourhood?"
   ]
  },
  {
   "cell_type": "code",
   "execution_count": 371,
   "metadata": {},
   "outputs": [
    {
     "name": "stdout",
     "output_type": "stream",
     "text": [
      "The new dataset looks like this:\n"
     ]
    },
    {
     "data": {
      "text/html": [
       "<div>\n",
       "<style scoped>\n",
       "    .dataframe tbody tr th:only-of-type {\n",
       "        vertical-align: middle;\n",
       "    }\n",
       "\n",
       "    .dataframe tbody tr th {\n",
       "        vertical-align: top;\n",
       "    }\n",
       "\n",
       "    .dataframe thead th {\n",
       "        text-align: right;\n",
       "    }\n",
       "</style>\n",
       "<table border=\"1\" class=\"dataframe\">\n",
       "  <thead>\n",
       "    <tr style=\"text-align: right;\">\n",
       "      <th></th>\n",
       "      <th>appointment</th>\n",
       "    </tr>\n",
       "    <tr>\n",
       "      <th>Neighbourhood</th>\n",
       "      <th></th>\n",
       "    </tr>\n",
       "  </thead>\n",
       "  <tbody>\n",
       "    <tr>\n",
       "      <th>AEROPORTO</th>\n",
       "      <td>87.500000</td>\n",
       "    </tr>\n",
       "    <tr>\n",
       "      <th>ANDORINHAS</th>\n",
       "      <td>76.967286</td>\n",
       "    </tr>\n",
       "    <tr>\n",
       "      <th>ANTÔNIO HONÓRIO</th>\n",
       "      <td>81.549815</td>\n",
       "    </tr>\n",
       "    <tr>\n",
       "      <th>ARIOVALDO FAVALESSA</th>\n",
       "      <td>78.014184</td>\n",
       "    </tr>\n",
       "    <tr>\n",
       "      <th>BARRO VERMELHO</th>\n",
       "      <td>78.486998</td>\n",
       "    </tr>\n",
       "    <tr>\n",
       "      <th>...</th>\n",
       "      <td>...</td>\n",
       "    </tr>\n",
       "    <tr>\n",
       "      <th>SÃO JOSÉ</th>\n",
       "      <td>78.351037</td>\n",
       "    </tr>\n",
       "    <tr>\n",
       "      <th>SÃO PEDRO</th>\n",
       "      <td>78.962418</td>\n",
       "    </tr>\n",
       "    <tr>\n",
       "      <th>TABUAZEIRO</th>\n",
       "      <td>81.704981</td>\n",
       "    </tr>\n",
       "    <tr>\n",
       "      <th>UNIVERSITÁRIO</th>\n",
       "      <td>78.947368</td>\n",
       "    </tr>\n",
       "    <tr>\n",
       "      <th>VILA RUBIM</th>\n",
       "      <td>83.431257</td>\n",
       "    </tr>\n",
       "  </tbody>\n",
       "</table>\n",
       "<p>81 rows × 1 columns</p>\n",
       "</div>"
      ],
      "text/plain": [
       "                     appointment\n",
       "Neighbourhood                   \n",
       "AEROPORTO              87.500000\n",
       "ANDORINHAS             76.967286\n",
       "ANTÔNIO HONÓRIO        81.549815\n",
       "ARIOVALDO FAVALESSA    78.014184\n",
       "BARRO VERMELHO         78.486998\n",
       "...                          ...\n",
       "SÃO JOSÉ               78.351037\n",
       "SÃO PEDRO              78.962418\n",
       "TABUAZEIRO             81.704981\n",
       "UNIVERSITÁRIO          78.947368\n",
       "VILA RUBIM             83.431257\n",
       "\n",
       "[81 rows x 1 columns]"
      ]
     },
     "execution_count": 371,
     "metadata": {},
     "output_type": "execute_result"
    }
   ],
   "source": [
    "#We have to create a neighbourhood dataset now\n",
    "print('The new dataset looks like this:')\n",
    "df_neighbourhood1 =  (df[df['Show'] == 1].groupby(['Neighbourhood']).agg(appointment=('AppointmentID', 'count')) / df.groupby(['Neighbourhood']).agg(appointment=('AppointmentID', 'count'))) * 100\n",
    "df_neighbourhood1"
   ]
  },
  {
   "cell_type": "markdown",
   "metadata": {},
   "source": [
    "As before, we need to change the index that was automatically set."
   ]
  },
  {
   "cell_type": "code",
   "execution_count": 372,
   "metadata": {},
   "outputs": [
    {
     "name": "stdout",
     "output_type": "stream",
     "text": [
      "The neighbourhood dataset doesnt have neighbourhood index anymore. The dataset looks like this:\n"
     ]
    },
    {
     "data": {
      "text/html": [
       "<div>\n",
       "<style scoped>\n",
       "    .dataframe tbody tr th:only-of-type {\n",
       "        vertical-align: middle;\n",
       "    }\n",
       "\n",
       "    .dataframe tbody tr th {\n",
       "        vertical-align: top;\n",
       "    }\n",
       "\n",
       "    .dataframe thead th {\n",
       "        text-align: right;\n",
       "    }\n",
       "</style>\n",
       "<table border=\"1\" class=\"dataframe\">\n",
       "  <thead>\n",
       "    <tr style=\"text-align: right;\">\n",
       "      <th></th>\n",
       "      <th>Neighbourhood</th>\n",
       "      <th>appointment</th>\n",
       "    </tr>\n",
       "  </thead>\n",
       "  <tbody>\n",
       "    <tr>\n",
       "      <th>0</th>\n",
       "      <td>AEROPORTO</td>\n",
       "      <td>87.500000</td>\n",
       "    </tr>\n",
       "    <tr>\n",
       "      <th>1</th>\n",
       "      <td>ANDORINHAS</td>\n",
       "      <td>76.967286</td>\n",
       "    </tr>\n",
       "    <tr>\n",
       "      <th>2</th>\n",
       "      <td>ANTÔNIO HONÓRIO</td>\n",
       "      <td>81.549815</td>\n",
       "    </tr>\n",
       "    <tr>\n",
       "      <th>3</th>\n",
       "      <td>ARIOVALDO FAVALESSA</td>\n",
       "      <td>78.014184</td>\n",
       "    </tr>\n",
       "    <tr>\n",
       "      <th>4</th>\n",
       "      <td>BARRO VERMELHO</td>\n",
       "      <td>78.486998</td>\n",
       "    </tr>\n",
       "    <tr>\n",
       "      <th>...</th>\n",
       "      <td>...</td>\n",
       "      <td>...</td>\n",
       "    </tr>\n",
       "    <tr>\n",
       "      <th>76</th>\n",
       "      <td>SÃO JOSÉ</td>\n",
       "      <td>78.351037</td>\n",
       "    </tr>\n",
       "    <tr>\n",
       "      <th>77</th>\n",
       "      <td>SÃO PEDRO</td>\n",
       "      <td>78.962418</td>\n",
       "    </tr>\n",
       "    <tr>\n",
       "      <th>78</th>\n",
       "      <td>TABUAZEIRO</td>\n",
       "      <td>81.704981</td>\n",
       "    </tr>\n",
       "    <tr>\n",
       "      <th>79</th>\n",
       "      <td>UNIVERSITÁRIO</td>\n",
       "      <td>78.947368</td>\n",
       "    </tr>\n",
       "    <tr>\n",
       "      <th>80</th>\n",
       "      <td>VILA RUBIM</td>\n",
       "      <td>83.431257</td>\n",
       "    </tr>\n",
       "  </tbody>\n",
       "</table>\n",
       "<p>81 rows × 2 columns</p>\n",
       "</div>"
      ],
      "text/plain": [
       "          Neighbourhood  appointment\n",
       "0             AEROPORTO    87.500000\n",
       "1            ANDORINHAS    76.967286\n",
       "2       ANTÔNIO HONÓRIO    81.549815\n",
       "3   ARIOVALDO FAVALESSA    78.014184\n",
       "4        BARRO VERMELHO    78.486998\n",
       "..                  ...          ...\n",
       "76             SÃO JOSÉ    78.351037\n",
       "77            SÃO PEDRO    78.962418\n",
       "78           TABUAZEIRO    81.704981\n",
       "79        UNIVERSITÁRIO    78.947368\n",
       "80           VILA RUBIM    83.431257\n",
       "\n",
       "[81 rows x 2 columns]"
      ]
     },
     "execution_count": 372,
     "metadata": {},
     "output_type": "execute_result"
    }
   ],
   "source": [
    "#Let's use reset_index to change the index\n",
    "print('The neighbourhood dataset doesnt have neighbourhood index anymore. The dataset looks like this:')\n",
    "df_neighbourhood1.reset_index(drop=False, inplace=True)\n",
    "df_neighbourhood1"
   ]
  },
  {
   "cell_type": "code",
   "execution_count": 373,
   "metadata": {},
   "outputs": [
    {
     "name": "stdout",
     "output_type": "stream",
     "text": [
      "The 5 best neighbourhoods in terms of attendance % are:\n"
     ]
    },
    {
     "data": {
      "text/html": [
       "<div>\n",
       "<style scoped>\n",
       "    .dataframe tbody tr th:only-of-type {\n",
       "        vertical-align: middle;\n",
       "    }\n",
       "\n",
       "    .dataframe tbody tr th {\n",
       "        vertical-align: top;\n",
       "    }\n",
       "\n",
       "    .dataframe thead th {\n",
       "        text-align: right;\n",
       "    }\n",
       "</style>\n",
       "<table border=\"1\" class=\"dataframe\">\n",
       "  <thead>\n",
       "    <tr style=\"text-align: right;\">\n",
       "      <th></th>\n",
       "      <th>Neighbourhood</th>\n",
       "      <th>appointment</th>\n",
       "    </tr>\n",
       "  </thead>\n",
       "  <tbody>\n",
       "    <tr>\n",
       "      <th>51</th>\n",
       "      <td>PARQUE INDUSTRIAL</td>\n",
       "      <td>100.000000</td>\n",
       "    </tr>\n",
       "    <tr>\n",
       "      <th>31</th>\n",
       "      <td>ILHA DO BOI</td>\n",
       "      <td>91.428571</td>\n",
       "    </tr>\n",
       "    <tr>\n",
       "      <th>0</th>\n",
       "      <td>AEROPORTO</td>\n",
       "      <td>87.500000</td>\n",
       "    </tr>\n",
       "    <tr>\n",
       "      <th>48</th>\n",
       "      <td>MÁRIO CYPRESTE</td>\n",
       "      <td>85.444744</td>\n",
       "    </tr>\n",
       "    <tr>\n",
       "      <th>73</th>\n",
       "      <td>SOLON BORGES</td>\n",
       "      <td>85.287846</td>\n",
       "    </tr>\n",
       "  </tbody>\n",
       "</table>\n",
       "</div>"
      ],
      "text/plain": [
       "        Neighbourhood  appointment\n",
       "51  PARQUE INDUSTRIAL   100.000000\n",
       "31        ILHA DO BOI    91.428571\n",
       "0           AEROPORTO    87.500000\n",
       "48     MÁRIO CYPRESTE    85.444744\n",
       "73       SOLON BORGES    85.287846"
      ]
     },
     "execution_count": 373,
     "metadata": {},
     "output_type": "execute_result"
    }
   ],
   "source": [
    "#Let's use the sort_value function to filter the 5 best neighbourhood in terms of attendance\n",
    "print('The 5 best neighbourhoods in terms of attendance % are:')\n",
    "df_neighbourhood1 = df_neighbourhood1.sort_values(['appointment'], ascending = False).head(5)\n",
    "df_neighbourhood1"
   ]
  },
  {
   "cell_type": "code",
   "execution_count": 374,
   "metadata": {},
   "outputs": [
    {
     "name": "stdout",
     "output_type": "stream",
     "text": [
      "The 5 worst neighbourhoods in terms of attendance % are:\n"
     ]
    },
    {
     "data": {
      "text/html": [
       "<div>\n",
       "<style scoped>\n",
       "    .dataframe tbody tr th:only-of-type {\n",
       "        vertical-align: middle;\n",
       "    }\n",
       "\n",
       "    .dataframe tbody tr th {\n",
       "        vertical-align: top;\n",
       "    }\n",
       "\n",
       "    .dataframe thead th {\n",
       "        text-align: right;\n",
       "    }\n",
       "</style>\n",
       "<table border=\"1\" class=\"dataframe\">\n",
       "  <thead>\n",
       "    <tr style=\"text-align: right;\">\n",
       "      <th></th>\n",
       "      <th>Neighbourhood</th>\n",
       "      <th>appointment</th>\n",
       "    </tr>\n",
       "  </thead>\n",
       "  <tbody>\n",
       "    <tr>\n",
       "      <th>70</th>\n",
       "      <td>SANTOS DUMONT</td>\n",
       "      <td>71.081505</td>\n",
       "    </tr>\n",
       "    <tr>\n",
       "      <th>61</th>\n",
       "      <td>SANTA CECÍLIA</td>\n",
       "      <td>72.544643</td>\n",
       "    </tr>\n",
       "    <tr>\n",
       "      <th>62</th>\n",
       "      <td>SANTA CLARA</td>\n",
       "      <td>73.517787</td>\n",
       "    </tr>\n",
       "    <tr>\n",
       "      <th>36</th>\n",
       "      <td>ITARARÉ</td>\n",
       "      <td>73.733637</td>\n",
       "    </tr>\n",
       "    <tr>\n",
       "      <th>40</th>\n",
       "      <td>JESUS DE NAZARETH</td>\n",
       "      <td>75.604627</td>\n",
       "    </tr>\n",
       "  </tbody>\n",
       "</table>\n",
       "</div>"
      ],
      "text/plain": [
       "        Neighbourhood  appointment\n",
       "70      SANTOS DUMONT    71.081505\n",
       "61      SANTA CECÍLIA    72.544643\n",
       "62        SANTA CLARA    73.517787\n",
       "36            ITARARÉ    73.733637\n",
       "40  JESUS DE NAZARETH    75.604627"
      ]
     },
     "execution_count": 374,
     "metadata": {},
     "output_type": "execute_result"
    }
   ],
   "source": [
    "#Let's use the sort_value function to filter the 5 best neighbourhood in terms of attendance, as above, we are going to change\n",
    "#the index with reset_index too\n",
    "print('The 5 worst neighbourhoods in terms of attendance % are:')\n",
    "df_neighbourhood2 =  (df[df['Show'] == 1].groupby(['Neighbourhood']).agg(appointment=('AppointmentID', 'count')) / df.groupby(['Neighbourhood']).agg(appointment=('AppointmentID', 'count'))) * 100\n",
    "df_neighbourhood2.reset_index(drop=False, inplace=True)\n",
    "df_neighbourhood2 = df_neighbourhood2.sort_values(['appointment'], ascending = True).head(5)\n",
    "df_neighbourhood2"
   ]
  },
  {
   "cell_type": "code",
   "execution_count": 375,
   "metadata": {},
   "outputs": [
    {
     "name": "stdout",
     "output_type": "stream",
     "text": [
      "Both neighbourhood datasets, the 5 best and the 5 worst in terms of attendance, are now appended:\n"
     ]
    },
    {
     "data": {
      "text/html": [
       "<div>\n",
       "<style scoped>\n",
       "    .dataframe tbody tr th:only-of-type {\n",
       "        vertical-align: middle;\n",
       "    }\n",
       "\n",
       "    .dataframe tbody tr th {\n",
       "        vertical-align: top;\n",
       "    }\n",
       "\n",
       "    .dataframe thead th {\n",
       "        text-align: right;\n",
       "    }\n",
       "</style>\n",
       "<table border=\"1\" class=\"dataframe\">\n",
       "  <thead>\n",
       "    <tr style=\"text-align: right;\">\n",
       "      <th></th>\n",
       "      <th>Neighbourhood</th>\n",
       "      <th>appointment</th>\n",
       "    </tr>\n",
       "  </thead>\n",
       "  <tbody>\n",
       "    <tr>\n",
       "      <th>51</th>\n",
       "      <td>PARQUE INDUSTRIAL</td>\n",
       "      <td>100.000000</td>\n",
       "    </tr>\n",
       "    <tr>\n",
       "      <th>31</th>\n",
       "      <td>ILHA DO BOI</td>\n",
       "      <td>91.428571</td>\n",
       "    </tr>\n",
       "    <tr>\n",
       "      <th>0</th>\n",
       "      <td>AEROPORTO</td>\n",
       "      <td>87.500000</td>\n",
       "    </tr>\n",
       "    <tr>\n",
       "      <th>48</th>\n",
       "      <td>MÁRIO CYPRESTE</td>\n",
       "      <td>85.444744</td>\n",
       "    </tr>\n",
       "    <tr>\n",
       "      <th>73</th>\n",
       "      <td>SOLON BORGES</td>\n",
       "      <td>85.287846</td>\n",
       "    </tr>\n",
       "    <tr>\n",
       "      <th>40</th>\n",
       "      <td>JESUS DE NAZARETH</td>\n",
       "      <td>75.604627</td>\n",
       "    </tr>\n",
       "    <tr>\n",
       "      <th>36</th>\n",
       "      <td>ITARARÉ</td>\n",
       "      <td>73.733637</td>\n",
       "    </tr>\n",
       "    <tr>\n",
       "      <th>62</th>\n",
       "      <td>SANTA CLARA</td>\n",
       "      <td>73.517787</td>\n",
       "    </tr>\n",
       "    <tr>\n",
       "      <th>61</th>\n",
       "      <td>SANTA CECÍLIA</td>\n",
       "      <td>72.544643</td>\n",
       "    </tr>\n",
       "    <tr>\n",
       "      <th>70</th>\n",
       "      <td>SANTOS DUMONT</td>\n",
       "      <td>71.081505</td>\n",
       "    </tr>\n",
       "  </tbody>\n",
       "</table>\n",
       "</div>"
      ],
      "text/plain": [
       "        Neighbourhood  appointment\n",
       "51  PARQUE INDUSTRIAL   100.000000\n",
       "31        ILHA DO BOI    91.428571\n",
       "0           AEROPORTO    87.500000\n",
       "48     MÁRIO CYPRESTE    85.444744\n",
       "73       SOLON BORGES    85.287846\n",
       "40  JESUS DE NAZARETH    75.604627\n",
       "36            ITARARÉ    73.733637\n",
       "62        SANTA CLARA    73.517787\n",
       "61      SANTA CECÍLIA    72.544643\n",
       "70      SANTOS DUMONT    71.081505"
      ]
     },
     "execution_count": 375,
     "metadata": {},
     "output_type": "execute_result"
    }
   ],
   "source": [
    "#let's re-order the second dataset, and then append it to the first one\n",
    "print('Both neighbourhood datasets, the 5 best and the 5 worst in terms of attendance, are now appended:')\n",
    "df_neighbourhood2= df_neighbourhood2.sort_values(['appointment'], ascending = False)\n",
    "df_neighbourhood = df_neighbourhood1.append(df_neighbourhood2)\n",
    "df_neighbourhood"
   ]
  },
  {
   "cell_type": "code",
   "execution_count": 376,
   "metadata": {
    "scrolled": true
   },
   "outputs": [
    {
     "name": "stdout",
     "output_type": "stream",
     "text": [
      "We can now visually see the difference of attendance by neighbourhood by looking at the 5 best and the 5 worst in terms of attendance %:\n"
     ]
    },
    {
     "data": {
      "image/png": "[encoded data removed]",
      "text/plain": [
       "<Figure size 720x576 with 1 Axes>"
      ]
     },
     "metadata": {},
     "output_type": "display_data"
    }
   ],
   "source": [
    "#Let's plot this dataset\n",
    "print('We can now visually see the difference of attendance by neighbourhood by looking at the 5 best and the 5 worst in terms of attendance %:')\n",
    "g = sns.barplot(data=df_neighbourhood,x ='appointment', y ='Neighbourhood', color = \"b\")\n",
    "\n",
    "#plt.gca().invert_yaxis()\n",
    "\n",
    "# Graph features\n",
    "plt.title(\"Attendance proportion by neighbourhoods\", fontsize = 14)\n",
    "plt.ylabel(\"Neighbourhood\", fontsize = 14)\n",
    "plt.xlabel(\"Attendance in %\", fontsize = 14)\n",
    "\n",
    "plt.show()"
   ]
  },
  {
   "cell_type": "markdown",
   "metadata": {},
   "source": [
    "We can see that the attendance varies quite significantly from one Neighbourhood to another."
   ]
  },
  {
   "cell_type": "markdown",
   "metadata": {},
   "source": [
    "<a id='conclusions'></a>\n",
    "## Conclusions\n",
    "\n",
    "In this report, we have analyzed some factors and general trends from the No-show dataset. Findings are tentative and not verified by the principles of statistics and machine learning. The following are some of the conclusions based on the analysis.\n",
    "\n",
    "In conclusion, we can assert that:\n",
    "- The age is a variable that shows a different attendance rate from one age group to another. The older one is, the more likely we can expect this person to attend his/her appointment. In addition, the number of appointments for Young children is the highest, with the lowest proportion of attendance.\n",
    "\n",
    "- The distribution of attendance by neighborhoods seems to be meaningful too since some neighbourhood show a very high level of attendance and others have a level of attendance much lower.\n",
    "\n",
    "- The Scholarship doesn't seems to work effectively. From a data point of view, no pattern seems to encourage more attendance from this variable.\n",
    "\n",
    "- Also, it seems like any pre-existing health issues (Diabetes, Hypertension, etc) are driving better attendance. It is important to keep in mind that these variables are correlated to the age.\n",
    "\n",
    "Reference websites used in addition to course material and peer help:\n",
    "\n",
    "https://pandas.pydata.org\n",
    "https://stackoverflow.com\n",
    "https://github.com"
   ]
  },
  {
   "cell_type": "code",
   "execution_count": 377,
   "metadata": {},
   "outputs": [
    {
     "data": {
      "text/plain": [
       "0"
      ]
     },
     "execution_count": 377,
     "metadata": {},
     "output_type": "execute_result"
    }
   ],
   "source": [
    "from subprocess import call\n",
    "call(['python', '-m', 'nbconvert', 'Investigate_a_Dataset.ipynb'])"
   ]
  },
  {
   "cell_type": "code",
   "execution_count": null,
   "metadata": {},
   "outputs": [],
   "source": []
  },
  {
   "cell_type": "code",
   "execution_count": null,
   "metadata": {},
   "outputs": [],
   "source": []
  }
 ],
 "metadata": {
  "kernelspec": {
   "display_name": "Python 3",
   "language": "python",
   "name": "python3"
  },
  "language_info": {
   "codemirror_mode": {
    "name": "ipython",
    "version": 3
   },
   "file_extension": ".py",
   "mimetype": "text/x-python",
   "name": "python",
   "nbconvert_exporter": "python",
   "pygments_lexer": "ipython3",
   "version": "3.8.3"
  }
 },
 "nbformat": 4,
 "nbformat_minor": 2
}
